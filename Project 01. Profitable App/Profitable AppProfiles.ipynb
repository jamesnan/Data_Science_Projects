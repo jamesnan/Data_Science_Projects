{
 "cells": [
  {
   "cell_type": "markdown",
   "metadata": {},
   "source": [
    "# Profitable App Profiles for the App Store and Google Play Markets\n",
    "\n",
    "We have received data analysis task from a company that builds free English Android and iOS mobile apps.\n",
    "The main source of the company's revenue consists of in-app ads, which means the revenue is highly influenced by the number of people using the apps.  The validation strategy for an app idea is comprised of three steps:\n",
    "\n",
    "* Build a minimal Android version of the app, and add it to Google Play.\n",
    "* If the app has a good response from users, we develop it further.\n",
    "* If the app is profitable after six months, we build an iOS version of the app and add it to the App Store.\n",
    "\n",
    "Our aim of this project is to determine the kinds of apps that are likely to attract more users. To do this, we'll need to collect and analyze data about mobile apps available on Google Play and the App Store."
   ]
  },
  {
   "cell_type": "markdown",
   "metadata": {},
   "source": [
    "# 1. Opening and Exploring the Data\n",
    "\n",
    "\n",
    "To avoid spending resources on collecting new data ourselves, we should first try to see if we can find any relevant existing data at no cost. Luckily, these are two data sets that seem suitable for our goals:\n",
    "\n",
    "* The Google Play Store data set contains data about approximately 10,000 Android apps from Google Play; the data was collected in August 2018. You can download the data set directly from this [link](https://www.kaggle.com/lava18/google-play-store-apps)\n",
    "\n",
    "\n",
    "* The Apple Store data set contains data about approximately 7,000 iOS apps from the App Store; the data was collected in July 2017. You can download the data set directly from this [link](https://www.kaggle.com/ramamet4/app-store-apple-data-set-10k-apps); \n",
    "\n",
    "To make easier for exploring the datasets,  we will define a function open_data to open the two data sets we mentioned above, and impoprt data from csv file to a list."
   ]
  },
  {
   "cell_type": "code",
   "execution_count": 71,
   "metadata": {},
   "outputs": [],
   "source": [
    "from csv import reader\n",
    "def open_data(filename):\n",
    "    open_file = open(filename, encoding=\"utf8\")\n",
    "    read_file= reader(open_file)\n",
    "    return list(read_file)\n",
    "    \n",
    "Apple_list = open_data('AppleStore.csv') \n",
    "google_list = open_data('googleplaystore.csv')   \n",
    "\n",
    "Apple_header =Apple_list[0]\n",
    "Apple_list = Apple_list[1:]\n",
    "google_header =google_list[0]\n",
    "google_list = google_list[1:]"
   ]
  },
  {
   "cell_type": "markdown",
   "metadata": {},
   "source": [
    "To explore both data sets, we can defined and call explore_data() function.\n",
    "\n",
    "* Print the first few rows of each data set.\n",
    "* Find the number of rows and columns of each data set\n",
    "* Print the column names and try to identify the columns that could help us with our analysis. "
   ]
  },
  {
   "cell_type": "code",
   "execution_count": 72,
   "metadata": {},
   "outputs": [
    {
     "name": "stdout",
     "output_type": "stream",
     "text": [
      "['id', 'track_name', 'size_bytes', 'currency', 'price', 'rating_count_tot', 'rating_count_ver', 'user_rating', 'user_rating_ver', 'ver', 'cont_rating', 'prime_genre', 'sup_devices.num', 'ipadSc_urls.num', 'lang.num', 'vpp_lic']\n",
      "\n",
      "\n",
      "['284882215', 'Facebook', '389879808', 'USD', '0.0', '2974676', '212', '3.5', '3.5', '95.0', '4+', 'Social Networking', '37', '1', '29', '1']\n",
      "\n",
      "\n",
      "['389801252', 'Instagram', '113954816', 'USD', '0.0', '2161558', '1289', '4.5', '4.0', '10.23', '12+', 'Photo & Video', '37', '0', '29', '1']\n",
      "\n",
      "\n",
      "['529479190', 'Clash of Clans', '116476928', 'USD', '0.0', '2130805', '579', '4.5', '4.5', '9.24.12', '9+', 'Games', '38', '5', '18', '1']\n",
      "\n",
      "\n",
      "Number of rows: 7197\n",
      "Number of columns: 16\n",
      "\n",
      "\n",
      "['App', 'Category', 'Rating', 'Reviews', 'Size', 'Installs', 'Type', 'Price', 'Content Rating', 'Genres', 'Last Updated', 'Current Ver', 'Android Ver']\n",
      "\n",
      "\n",
      "['Photo Editor & Candy Camera & Grid & ScrapBook', 'ART_AND_DESIGN', '4.1', '159', '19M', '10,000+', 'Free', '0', 'Everyone', 'Art & Design', 'January 7, 2018', '1.0.0', '4.0.3 and up']\n",
      "\n",
      "\n",
      "['Coloring book moana', 'ART_AND_DESIGN', '3.9', '967', '14M', '500,000+', 'Free', '0', 'Everyone', 'Art & Design;Pretend Play', 'January 15, 2018', '2.0.0', '4.0.3 and up']\n",
      "\n",
      "\n",
      "['U Launcher Lite – FREE Live Cool Themes, Hide Apps', 'ART_AND_DESIGN', '4.7', '87510', '8.7M', '5,000,000+', 'Free', '0', 'Everyone', 'Art & Design', 'August 1, 2018', '1.2.4', '4.0.3 and up']\n",
      "\n",
      "\n",
      "Number of rows: 10841\n",
      "Number of columns: 13\n"
     ]
    }
   ],
   "source": [
    "def explore_data(dataset, start, end, rows_and_columns=False):\n",
    "    dataset_slice = dataset[start:end]    \n",
    "    for row in dataset_slice:\n",
    "        print(row)\n",
    "        print('\\n') # adds a new (empty) line after each row\n",
    "\n",
    "    if rows_and_columns:\n",
    "        print('Number of rows:', len(dataset))\n",
    "        print('Number of columns:', len(dataset[0]))\n",
    "\n",
    "print(Apple_header)    \n",
    "print('\\n')\n",
    "explore_data(Apple_list,0,3,True)    \n",
    "print('\\n')\n",
    "print(google_header)\n",
    "print('\\n')\n",
    "explore_data(google_list,0,3,True) "
   ]
  },
  {
   "cell_type": "markdown",
   "metadata": {},
   "source": [
    "# 2. Data Cleaning\n",
    "\n",
    "Before beginning our analysis, we need to make sure the data we analyze is accurate, otherwise the results of our analysis will be wrong.\n",
    "\n",
    "This means that we need to:\n",
    "\n",
    "1. Removed inaccurate data\n",
    "2. Remove the duplicates\n",
    "3. Removed non-English apps,like 爱奇艺PPS -《欢乐颂2》电视剧热播.\n",
    "4. Isolated the free apps"
   ]
  },
  {
   "cell_type": "markdown",
   "metadata": {},
   "source": [
    "##  2.1 Removed inaccurate data"
   ]
  },
  {
   "cell_type": "code",
   "execution_count": 73,
   "metadata": {},
   "outputs": [
    {
     "name": "stdout",
     "output_type": "stream",
     "text": [
      "The normal row: ['U Launcher Lite – FREE Live Cool Themes, Hide Apps', 'ART_AND_DESIGN', '4.7', '87510', '8.7M', '5,000,000+', 'Free', '0', 'Everyone', 'Art & Design', 'August 1, 2018', '1.2.4', '4.0.3 and up']\n",
      "\n",
      "\n",
      "The error row: ['Life Made WI-Fi Touchscreen Photo Frame', '1.9', '19', '3.0M', '1,000+', 'Free', '0', 'Everyone', '', 'February 11, 2018', '1.0.19', '4.0 and up']\n"
     ]
    }
   ],
   "source": [
    "# From the discuss of Google Play data on kaggle, we see that row 10472 of google list\n",
    "print(\"The normal row:\" , google_list[2])\n",
    "print(\"\\n\")\n",
    "print(\"The error row:\" , google_list[10472])"
   ]
  },
  {
   "cell_type": "code",
   "execution_count": 74,
   "metadata": {},
   "outputs": [
    {
     "name": "stdout",
     "output_type": "stream",
     "text": [
      "['App', 'Category', 'Rating', 'Reviews', 'Size', 'Installs', 'Type', 'Price', 'Content Rating', 'Genres', 'Last Updated', 'Current Ver', 'Android Ver']\n",
      "['Photo Editor & Candy Camera & Grid & ScrapBook', 'ART_AND_DESIGN', '4.1', '159', '19M', '10,000+', 'Free', '0', 'Everyone', 'Art & Design', 'January 7, 2018', '1.0.0', '4.0.3 and up']\n",
      "\n",
      "\n",
      "['Coloring book moana', 'ART_AND_DESIGN', '3.9', '967', '14M', '500,000+', 'Free', '0', 'Everyone', 'Art & Design;Pretend Play', 'January 15, 2018', '2.0.0', '4.0.3 and up']\n",
      "\n",
      "\n",
      "Number of rows: 10840\n",
      "Number of columns: 13\n"
     ]
    }
   ],
   "source": [
    "# Remove the row using del\n",
    "del google_list[10472]  # only use once\n",
    "print(google_header) \n",
    "explore_data(google_list,0,2,True)"
   ]
  },
  {
   "cell_type": "markdown",
   "metadata": {},
   "source": [
    "## 2.2 Remove the duplicates\n",
    "\n",
    "Google Play data set has duplicate entries. For instance, Instagram has four entries:"
   ]
  },
  {
   "cell_type": "code",
   "execution_count": 75,
   "metadata": {},
   "outputs": [
    {
     "name": "stdout",
     "output_type": "stream",
     "text": [
      "['Instagram', 'SOCIAL', '4.5', '66577313', 'Varies with device', '1,000,000,000+', 'Free', '0', 'Teen', 'Social', 'July 31, 2018', 'Varies with device', 'Varies with device']\n",
      "['Instagram', 'SOCIAL', '4.5', '66577446', 'Varies with device', '1,000,000,000+', 'Free', '0', 'Teen', 'Social', 'July 31, 2018', 'Varies with device', 'Varies with device']\n",
      "['Instagram', 'SOCIAL', '4.5', '66577313', 'Varies with device', '1,000,000,000+', 'Free', '0', 'Teen', 'Social', 'July 31, 2018', 'Varies with device', 'Varies with device']\n",
      "['Instagram', 'SOCIAL', '4.5', '66509917', 'Varies with device', '1,000,000,000+', 'Free', '0', 'Teen', 'Social', 'July 31, 2018', 'Varies with device', 'Varies with device']\n"
     ]
    }
   ],
   "source": [
    "for app in google_list:\n",
    "    if app[0]=='Instagram':\n",
    "        print(app)"
   ]
  },
  {
   "cell_type": "markdown",
   "metadata": {},
   "source": [
    "The code below is to create two lists for duplicate apps and unique apps.\n",
    "\n",
    "* Created two lists: one for storing the name of duplicate apps, and one for storing the name of unique apps.\n",
    "* Looped through the google_list data set, \n",
    "* and for each iteration: We saved the app name to a variable named app.\n",
    "* If name was already in the unique_apps list, we appended name to the duplicate_apps list.\n",
    "* Else (if name wasn't already in the unique_apps list), we appended name to the unique_apps list."
   ]
  },
  {
   "cell_type": "code",
   "execution_count": 76,
   "metadata": {},
   "outputs": [],
   "source": [
    "unique_apps= []\n",
    "duplicate_apps = []\n",
    "\n",
    "for row in google_list: \n",
    "    app = row [0]\n",
    "    if app in unique_apps: \n",
    "        duplicate_apps.append(app)\n",
    "    else:\n",
    "        unique_apps.append(app)"
   ]
  },
  {
   "cell_type": "code",
   "execution_count": 77,
   "metadata": {},
   "outputs": [
    {
     "name": "stdout",
     "output_type": "stream",
     "text": [
      "Number of dupliate apps: 1181\n",
      "Example of dupliate apps: ['Quick PDF Scanner + OCR FREE', 'Box', 'Google My Business', 'ZOOM Cloud Meetings', 'join.me - Simple Meetings', 'Box', 'Zenefits', 'Google Ads', 'Google My Business', 'Slack']\n",
      "Number of unique apps: 9659\n",
      "Example of unique apps: ['Photo Editor & Candy Camera & Grid & ScrapBook', 'Coloring book moana', 'U Launcher Lite – FREE Live Cool Themes, Hide Apps', 'Sketch - Draw & Paint', 'Pixel Draw - Number Art Coloring Book', 'Paper flowers instructions', 'Smoke Effect Photo Maker - Smoke Editor', 'Infinite Painter', 'Garden Coloring Book', 'Kids Paint Free - Drawing Fun']\n"
     ]
    }
   ],
   "source": [
    "print ('Number of dupliate apps:',len(duplicate_apps))\n",
    "print ('Example of dupliate apps:',duplicate_apps[:10])\n",
    "\n",
    "print ('Number of unique apps:',len(unique_apps))\n",
    "print ('Example of unique apps:',unique_apps[:10])"
   ]
  },
  {
   "cell_type": "markdown",
   "metadata": {},
   "source": [
    "Next, we will create a dictionary, where each dictionary key is a unique app name and the corresponding dictionary value is the highest number of reviews of that app.\n"
   ]
  },
  {
   "cell_type": "code",
   "execution_count": 78,
   "metadata": {},
   "outputs": [
    {
     "name": "stdout",
     "output_type": "stream",
     "text": [
      "9659\n"
     ]
    }
   ],
   "source": [
    "reviews_max ={}\n",
    "\n",
    "for row in google_list: \n",
    "    app = row [0]\n",
    "    n_reviews =  float(row [3])\n",
    "    \n",
    "    if app in reviews_max: \n",
    "        if reviews_max[app] < n_reviews:\n",
    "            reviews_max[app]=n_reviews\n",
    "    else:\n",
    "        reviews_max[app]=n_reviews\n",
    "print(len(reviews_max))        "
   ]
  },
  {
   "cell_type": "markdown",
   "metadata": {},
   "source": [
    "Use the information stored in the dictionary, we can create a new data set, which will have only one entry per app (and for each app, we'll only select the entry with the highest number of reviews).\n",
    "\n",
    "* loop through google list, and for every iteration:\n",
    "* assign app name and num_reviews variables from row value\n",
    "* if the number of review matchs the max number in reviews_max dictionary, and the app name is not in the already_added  then add the app to android_clean and already_added "
   ]
  },
  {
   "cell_type": "code",
   "execution_count": 79,
   "metadata": {},
   "outputs": [],
   "source": [
    "google_clean =[]\n",
    "already_added  =[]\n",
    "\n",
    "for row in google_list:\n",
    "    app = row [0]\n",
    "    n_reviews =  float(row [3])\n",
    "    \n",
    "    if reviews_max[app] == n_reviews and app not in already_added:\n",
    "        google_clean.append(row)\n",
    "        already_added.append(app)"
   ]
  },
  {
   "cell_type": "code",
   "execution_count": 80,
   "metadata": {},
   "outputs": [
    {
     "data": {
      "text/plain": [
       "9659"
      ]
     },
     "execution_count": 80,
     "metadata": {},
     "output_type": "execute_result"
    }
   ],
   "source": [
    "# Explore the google_clean, expect 9659 entries\n",
    "len(google_clean)"
   ]
  },
  {
   "cell_type": "markdown",
   "metadata": {},
   "source": [
    "## 2.3 Removed non-English apps,like 爱奇艺PPS -《欢乐颂2》电视剧热播."
   ]
  },
  {
   "cell_type": "code",
   "execution_count": 81,
   "metadata": {},
   "outputs": [
    {
     "name": "stdout",
     "output_type": "stream",
     "text": [
      "True\n",
      "False\n",
      "True\n",
      "True\n"
     ]
    }
   ],
   "source": [
    "# Check if app name is in common English characters,\n",
    "# If app name contains 3+  characters that fall outside the ASCII range (0 - 127), \n",
    "# return False, else return True\n",
    "\n",
    "def english_name(str):\n",
    "    no_english = 0\n",
    "    for charactor in str:\n",
    "        if ord(charactor)>127:\n",
    "            no_english +=1\n",
    "    if  no_english > 3:  # in solution, the condition is >3. it keeps many none english apps\n",
    "        return False\n",
    "    else:\n",
    "        return True\n",
    "\n",
    "print (english_name('Instagram'))\n",
    "print (english_name('爱奇艺PPS -《欢乐颂2》电视剧热播'))\n",
    "print (english_name('Docs To Go™ Free Office Suite'))\n",
    "print (english_name('Instachat 😜'))"
   ]
  },
  {
   "cell_type": "code",
   "execution_count": 82,
   "metadata": {},
   "outputs": [
    {
     "name": "stdout",
     "output_type": "stream",
     "text": [
      "Number of Android apps left:  9614\n",
      "Number of iOS apps left:  7197\n"
     ]
    }
   ],
   "source": [
    "# Loop through each data set. If an app name is identified as English, append the whole row to a separate list.\n",
    "def english_filter(app_list, column):\n",
    "    english_list =[]\n",
    "    for row in app_list:\n",
    "        app = row[column]\n",
    "        if english_name(app):\n",
    "            english_list.append(row)\n",
    "    return english_list\n",
    "\n",
    "Apple_english = english_filter(Apple_list,2)\n",
    "google_english = english_filter(google_clean,0)\n",
    "\n",
    "print('Number of Android apps left: ', len(google_english))\n",
    "print('Number of iOS apps left: ',len(Apple_english))"
   ]
  },
  {
   "cell_type": "markdown",
   "metadata": {},
   "source": [
    "## 2.4 Isolated the free apps"
   ]
  },
  {
   "cell_type": "code",
   "execution_count": 83,
   "metadata": {},
   "outputs": [
    {
     "name": "stdout",
     "output_type": "stream",
     "text": [
      "4056\n",
      "8864\n"
     ]
    }
   ],
   "source": [
    "# Loop through each data set to isolate the free apps in separate lists. \n",
    "# After isolate the free apps, check the length of each data set to see how many apps you have remaining.\n",
    "\n",
    "\n",
    "google_free =[]\n",
    "for row in google_english:\n",
    "        price = row[7]\n",
    "        if price == '0':\n",
    "            google_free.append(row)\n",
    "\n",
    "Apple_free =[]\n",
    "for row in Apple_english:\n",
    "        price = row[4]\n",
    "        if price == '0.0':\n",
    "            Apple_free.append(row)\n",
    "print(len(Apple_free))\n",
    "print(len(google_free))"
   ]
  },
  {
   "cell_type": "markdown",
   "metadata": {},
   "source": [
    "* We have 8864 Android apps and 3222 iOS apps let. It should be enough for our analysis."
   ]
  },
  {
   "cell_type": "markdown",
   "metadata": {},
   "source": [
    "# 3. Most Common Apps by Genre\n",
    "\n",
    "## Part 1\n",
    "\n",
    "To minimize risks and overhead, our validation strategy for an app idea is comprised of three steps:\n",
    "* Build a minimal Android version of the app, and add it to Google Play.\n",
    "* If the app has a good response from users, we develop it further.\n",
    "* If the app is profitable after six months, we build an iOS version of the app and add it to the App Store.\n",
    "\n",
    "## Part 2\n",
    "\n",
    "Because our end goal is to add the app on both Google Play and the App Store, we need to find app profiles that are successful on both markets. For this, let's begin the analysis by getting a sense of what are the most common genres for each market. We'll build two functions we can use to analyze the frequency tables:\n",
    "* One function to generate frequency tables that show percentages\n",
    "* Another function we can use to display the percentages in a descending order"
   ]
  },
  {
   "cell_type": "code",
   "execution_count": 84,
   "metadata": {},
   "outputs": [],
   "source": [
    "def freq_table (dataset, index):\n",
    "    frequency_table ={}\n",
    "    pecentage = 100/len(dataset)\n",
    "    for row in dataset:\n",
    "        key = row[index]\n",
    "        if key in frequency_table:\n",
    "            frequency_table[key] += pecentage\n",
    "        else:\n",
    "            frequency_table[key] = pecentage\n",
    "    return  frequency_table"
   ]
  },
  {
   "cell_type": "code",
   "execution_count": 85,
   "metadata": {},
   "outputs": [],
   "source": [
    "def display_table(dataset, index):\n",
    "    table = freq_table(dataset, index)\n",
    "    table_display = []\n",
    "    for key in table:\n",
    "        key_val_as_tuple = (round(table[key],2), key)\n",
    "        table_display.append(key_val_as_tuple)\n",
    "\n",
    "    table_sorted = sorted(table_display, reverse = True)\n",
    "    table_sorted\n",
    "    print(table_sorted) # use this display to save screen space "
   ]
  },
  {
   "cell_type": "markdown",
   "metadata": {},
   "source": [
    "## Part 3"
   ]
  },
  {
   "cell_type": "code",
   "execution_count": 86,
   "metadata": {},
   "outputs": [
    {
     "name": "stdout",
     "output_type": "stream",
     "text": [
      "[(55.65, 'Games'), (8.23, 'Entertainment'), (4.12, 'Photo & Video'), (3.53, 'Social Networking'), (3.25, 'Education'), (2.98, 'Shopping'), (2.69, 'Utilities'), (2.32, 'Lifestyle'), (2.07, 'Finance'), (1.95, 'Sports'), (1.87, 'Health & Fitness'), (1.65, 'Music'), (1.63, 'Book'), (1.53, 'Productivity'), (1.43, 'News'), (1.38, 'Travel'), (1.06, 'Food & Drink'), (0.76, 'Weather'), (0.49, 'Reference'), (0.49, 'Navigation'), (0.49, 'Business'), (0.22, 'Catalogs'), (0.2, 'Medical')]\n"
     ]
    }
   ],
   "source": [
    "# display the frequency table for the prime_genre column of the App Store data set.\n",
    "frequency=display_table(Apple_free, -5)"
   ]
  },
  {
   "cell_type": "markdown",
   "metadata": {},
   "source": [
    "Now, we can analyze the frequency table that generated for the prime_genre column of the App Store data set.\n",
    "\n",
    "* What is the most common genre?  Games,\n",
    "* What is the runner-up? Entertainment, Photo & Video, Social Networking  \n",
    "* What other patterns do you see?  App store is domnated by apps for fun \n",
    "* What is the general impression?  Most of the apps designed for entertainment (games, photo and video, social networking, sports, music)"
   ]
  },
  {
   "cell_type": "code",
   "execution_count": 87,
   "metadata": {},
   "outputs": [
    {
     "name": "stdout",
     "output_type": "stream",
     "text": [
      "[(18.91, 'FAMILY'), (9.72, 'GAME'), (8.46, 'TOOLS'), (4.59, 'BUSINESS'), (3.9, 'LIFESTYLE'), (3.89, 'PRODUCTIVITY'), (3.7, 'FINANCE'), (3.53, 'MEDICAL'), (3.4, 'SPORTS'), (3.32, 'PERSONALIZATION'), (3.24, 'COMMUNICATION'), (3.08, 'HEALTH_AND_FITNESS'), (2.94, 'PHOTOGRAPHY'), (2.8, 'NEWS_AND_MAGAZINES'), (2.66, 'SOCIAL'), (2.34, 'TRAVEL_AND_LOCAL'), (2.25, 'SHOPPING'), (2.14, 'BOOKS_AND_REFERENCE'), (1.86, 'DATING'), (1.79, 'VIDEO_PLAYERS'), (1.4, 'MAPS_AND_NAVIGATION'), (1.24, 'FOOD_AND_DRINK'), (1.16, 'EDUCATION'), (0.96, 'ENTERTAINMENT'), (0.94, 'LIBRARIES_AND_DEMO'), (0.93, 'AUTO_AND_VEHICLES'), (0.82, 'HOUSE_AND_HOME'), (0.8, 'WEATHER'), (0.71, 'EVENTS'), (0.65, 'PARENTING'), (0.64, 'ART_AND_DESIGN'), (0.62, 'COMICS'), (0.6, 'BEAUTY')]\n"
     ]
    }
   ],
   "source": [
    "# Display Genres and Category columns of the Google Play data set \n",
    "display_table(google_free, 1) # Category"
   ]
  },
  {
   "cell_type": "code",
   "execution_count": 88,
   "metadata": {},
   "outputs": [
    {
     "name": "stdout",
     "output_type": "stream",
     "text": [
      "[(8.45, 'Tools'), (6.07, 'Entertainment'), (5.35, 'Education'), (4.59, 'Business'), (3.89, 'Productivity'), (3.89, 'Lifestyle'), (3.7, 'Finance'), (3.53, 'Medical'), (3.46, 'Sports'), (3.32, 'Personalization'), (3.24, 'Communication'), (3.1, 'Action'), (3.08, 'Health & Fitness'), (2.94, 'Photography'), (2.8, 'News & Magazines'), (2.66, 'Social'), (2.32, 'Travel & Local'), (2.25, 'Shopping'), (2.14, 'Books & Reference'), (2.04, 'Simulation'), (1.86, 'Dating'), (1.85, 'Arcade'), (1.77, 'Video Players & Editors'), (1.76, 'Casual'), (1.4, 'Maps & Navigation'), (1.24, 'Food & Drink'), (1.13, 'Puzzle'), (0.99, 'Racing'), (0.94, 'Role Playing'), (0.94, 'Libraries & Demo'), (0.93, 'Auto & Vehicles'), (0.91, 'Strategy'), (0.82, 'House & Home'), (0.8, 'Weather'), (0.71, 'Events'), (0.68, 'Adventure'), (0.61, 'Comics'), (0.6, 'Beauty'), (0.6, 'Art & Design'), (0.5, 'Parenting'), (0.45, 'Card'), (0.43, 'Casino'), (0.42, 'Trivia'), (0.39, 'Educational;Education'), (0.38, 'Board'), (0.37, 'Educational'), (0.34, 'Education;Education'), (0.26, 'Word'), (0.24, 'Casual;Pretend Play'), (0.2, 'Music'), (0.17, 'Racing;Action & Adventure'), (0.17, 'Puzzle;Brain Games'), (0.17, 'Entertainment;Music & Video'), (0.14, 'Casual;Brain Games'), (0.14, 'Casual;Action & Adventure'), (0.12, 'Arcade;Action & Adventure'), (0.1, 'Action;Action & Adventure'), (0.09, 'Educational;Pretend Play'), (0.08, 'Simulation;Action & Adventure'), (0.08, 'Parenting;Education'), (0.08, 'Entertainment;Brain Games'), (0.08, 'Board;Brain Games'), (0.07, 'Parenting;Music & Video'), (0.07, 'Educational;Brain Games'), (0.07, 'Casual;Creativity'), (0.07, 'Art & Design;Creativity'), (0.06, 'Education;Pretend Play'), (0.05, 'Role Playing;Pretend Play'), (0.05, 'Education;Creativity'), (0.03, 'Role Playing;Action & Adventure'), (0.03, 'Puzzle;Action & Adventure'), (0.03, 'Entertainment;Creativity'), (0.03, 'Entertainment;Action & Adventure'), (0.03, 'Educational;Creativity'), (0.03, 'Educational;Action & Adventure'), (0.03, 'Education;Music & Video'), (0.03, 'Education;Brain Games'), (0.03, 'Education;Action & Adventure'), (0.03, 'Adventure;Action & Adventure'), (0.02, 'Video Players & Editors;Music & Video'), (0.02, 'Sports;Action & Adventure'), (0.02, 'Simulation;Pretend Play'), (0.02, 'Puzzle;Creativity'), (0.02, 'Music;Music & Video'), (0.02, 'Entertainment;Pretend Play'), (0.02, 'Casual;Education'), (0.02, 'Board;Action & Adventure'), (0.01, 'Video Players & Editors;Creativity'), (0.01, 'Trivia;Education'), (0.01, 'Travel & Local;Action & Adventure'), (0.01, 'Tools;Education'), (0.01, 'Strategy;Education'), (0.01, 'Strategy;Creativity'), (0.01, 'Strategy;Action & Adventure'), (0.01, 'Simulation;Education'), (0.01, 'Role Playing;Brain Games'), (0.01, 'Racing;Pretend Play'), (0.01, 'Puzzle;Education'), (0.01, 'Parenting;Brain Games'), (0.01, 'Music & Audio;Music & Video'), (0.01, 'Lifestyle;Pretend Play'), (0.01, 'Lifestyle;Education'), (0.01, 'Health & Fitness;Education'), (0.01, 'Health & Fitness;Action & Adventure'), (0.01, 'Entertainment;Education'), (0.01, 'Communication;Creativity'), (0.01, 'Comics;Creativity'), (0.01, 'Casual;Music & Video'), (0.01, 'Card;Action & Adventure'), (0.01, 'Books & Reference;Education'), (0.01, 'Art & Design;Pretend Play'), (0.01, 'Art & Design;Action & Adventure'), (0.01, 'Arcade;Pretend Play'), (0.01, 'Adventure;Education')]\n"
     ]
    }
   ],
   "source": [
    "display_table(google_free, 9) # Genres"
   ]
  },
  {
   "cell_type": "markdown",
   "metadata": {},
   "source": [
    "Now, we can analyze the frequency table that generated for the Category and Genres column of the Google Play data set.\n",
    "\n",
    "* What are the most common genres? Tools, Entertainment, FAMILY, GAME,BUSINESS\n",
    "* What other patterns do you see? There are more practical apps \n",
    "* Google Play shows a more balanced landscape of both practical and for-fun apps. "
   ]
  },
  {
   "cell_type": "markdown",
   "metadata": {},
   "source": [
    "# 4. Most Popular Apps by  ratings number per app genre on the ios App Store"
   ]
  },
  {
   "cell_type": "markdown",
   "metadata": {},
   "source": [
    "The frequency tables we analyzed on the previous screen showed us that the App Store is dominated by apps designed for fun, while Google Play shows a more balanced landscape of both practical and fun apps. Now, we'd like to get an idea about the kind of apps with the most users. \n",
    "\n",
    "For the Google Play data set, we can find this information in the <strong>Installs</strong> column, but this information is missing for the App Store data set. As a workaround, we'll take the total number of user ratings as a proxy, which we can find in the <strong>rating_count_column</strong> app."
   ]
  },
  {
   "cell_type": "code",
   "execution_count": 89,
   "metadata": {},
   "outputs": [
    {
     "name": "stdout",
     "output_type": "stream",
     "text": [
      "Social Networking : 646\n",
      "Photo & Video : 417\n",
      "Games : 609\n",
      "Music : 618\n",
      "Reference : 2471\n",
      "Health & Fitness : 234\n",
      "Weather : 1624\n",
      "Utilities : 1618\n",
      "Travel : 175\n",
      "Shopping : 714\n",
      "News : 62\n",
      "Navigation : 228\n",
      "Lifestyle : 1007\n",
      "Entertainment : 179\n",
      "Food & Drink : 457\n",
      "Sports : 177\n",
      "Book : 106\n",
      "Finance : 298\n",
      "Education : 683\n",
      "Productivity : 225\n",
      "Business : 183\n",
      "Catalogs : 364\n",
      "Medical : 36\n"
     ]
    }
   ],
   "source": [
    "apple_genre = freq_table(Apple_free, -5)\n",
    "\n",
    "for genre in apple_genre:\n",
    "    total = 0\n",
    "    len_genre = 0\n",
    "    for row in Apple_free:\n",
    "        genre_app = row[-5]\n",
    "        if genre_app == genre:\n",
    "            n_rating = float(row[6])\n",
    "            total += n_rating \n",
    "            len_genre +=1\n",
    "    average_n_rating = int(total  / len_genre)\n",
    "    print (genre, \":\",average_n_rating)   "
   ]
  },
  {
   "cell_type": "markdown",
   "metadata": {},
   "source": [
    "On average, Navigation, Reference, Social Networking apps have the highest number of user reviews, followed by Music,Weather,Book. <BR>\n",
    "\n",
    "Let take a close look at apps of the most popular catagory"
   ]
  },
  {
   "cell_type": "code",
   "execution_count": 90,
   "metadata": {},
   "outputs": [
    {
     "name": "stdout",
     "output_type": "stream",
     "text": [
      "94139392 : 3040\n",
      "120232960 : 1253\n",
      "108166144 : 134\n",
      "82534400 : 70\n",
      "166025216 : 5\n",
      "213586944 : 23\n",
      "107509760 : 22\n",
      "126867456 : 0\n",
      "103106560 : 3\n",
      "36229120 : 13\n",
      "46950400 : 0\n",
      "55756800 : 0\n",
      "39891968 : 0\n",
      "117473280 : 0\n",
      "25631744 : 0\n",
      "27655168 : 0\n",
      "5177344 : 0\n",
      "41207059 : 0\n",
      "125665280 : 0\n",
      "48708608 : 0\n"
     ]
    }
   ],
   "source": [
    "for app in Apple_free:\n",
    "    if app[-5] == 'Navigation':\n",
    "        print(app[2], ':', app[6]) # print name and number of ratings"
   ]
  },
  {
   "cell_type": "markdown",
   "metadata": {},
   "source": [
    "Navigation apps have the highest number of user reviews, but this figure is heavily influenced by Waze and Google Maps, which have close to half a million user reviews together. <BR>\n",
    "Same pattern applys to Social Networking apps. Below is the detail for Refernce apps \n"
   ]
  },
  {
   "cell_type": "code",
   "execution_count": 91,
   "metadata": {},
   "outputs": [
    {
     "name": "stdout",
     "output_type": "stream",
     "text": [
      "92774400 : 5320\n",
      "111275008 : 177\n",
      "165748736 : 10176\n",
      "65281024 : 27\n",
      "100551680 : 706\n",
      "52959232 : 17588\n",
      "155593728 : 1125\n",
      "596499456 : 60\n",
      "90124288 : 8535\n",
      "86874112 : 4693\n",
      "85424128 : 245\n",
      "27029504 : 58\n",
      "34959360 : 7\n",
      "89927680 : 718\n",
      "10645504 : 1\n",
      "125990912 : 2\n",
      "44208128 : 0\n",
      "57025536 : 0\n",
      "225522688 : 0\n",
      "31080448 : 0\n"
     ]
    }
   ],
   "source": [
    "for app in Apple_free:\n",
    "    if app[-5] == 'Reference':\n",
    "        print(app[2], ':', app[6]) # print name and number of ratings"
   ]
  },
  {
   "cell_type": "markdown",
   "metadata": {},
   "source": [
    "The reference seems to show some potential.  <BR/>\n",
    "Other genres that seem popular include  book and game. \n",
    "\n",
    "\n",
    "We removed all the apps that have over 30,000 rating_count_column, the average below shows the popularity ios apps among second tier"
   ]
  },
  {
   "cell_type": "code",
   "execution_count": 92,
   "metadata": {},
   "outputs": [
    {
     "name": "stdout",
     "output_type": "stream",
     "text": [
      "Social Networking : 135\n",
      "Photo & Video : 417\n",
      "Games : 490\n",
      "Music : 618\n",
      "Reference : 2471\n",
      "Health & Fitness : 234\n",
      "Weather : 1624\n",
      "Utilities : 640\n",
      "Travel : 175\n",
      "Shopping : 392\n",
      "News : 62\n",
      "Navigation : 228\n",
      "Lifestyle : 66\n",
      "Entertainment : 179\n",
      "Food & Drink : 457\n",
      "Sports : 177\n",
      "Book : 106\n",
      "Finance : 298\n",
      "Education : 163\n",
      "Productivity : 225\n",
      "Business : 183\n",
      "Catalogs : 364\n",
      "Medical : 36\n"
     ]
    }
   ],
   "source": [
    "for genre in apple_genre:\n",
    "    total = 0\n",
    "    len_genre = 0\n",
    "    for row in Apple_free:\n",
    "        genre_app = row[-5]\n",
    "        if genre_app == genre:\n",
    "            n_rating = float(row[6])\n",
    "            if n_rating < 30000:\n",
    "                total += n_rating \n",
    "                len_genre +=1\n",
    "    average_n_rating = int(total  / len_genre)\n",
    "    print (genre, \":\",average_n_rating)"
   ]
  },
  {
   "cell_type": "markdown",
   "metadata": {},
   "source": [
    "Among the second tier apps, the top three are Reference , Productivity , Shopping. Run ups include Music, Social Networking,Business "
   ]
  },
  {
   "cell_type": "markdown",
   "metadata": {},
   "source": [
    "# 5. Most Popular Apps by the number of installs  per Genre on Google Play\n",
    "\n",
    "For the Google Play market, we can use the number of installs to understand app popularity."
   ]
  },
  {
   "cell_type": "code",
   "execution_count": 93,
   "metadata": {},
   "outputs": [
    {
     "name": "stdout",
     "output_type": "stream",
     "text": [
      "[(15.73, '1,000,000+'), (11.55, '100,000+'), (10.55, '10,000,000+'), (10.2, '10,000+'), (8.39, '1,000+'), (6.92, '100+'), (6.83, '5,000,000+'), (5.56, '500,000+'), (4.77, '50,000+'), (4.51, '5,000+'), (3.54, '10+'), (3.25, '500+'), (2.3, '50,000,000+'), (2.13, '100,000,000+'), (1.92, '50+'), (0.79, '5+'), (0.51, '1+'), (0.27, '500,000,000+'), (0.23, '1,000,000,000+'), (0.05, '0+'), (0.01, '0')]\n"
     ]
    }
   ],
   "source": [
    "display_table(google_free, 5) # install numbers"
   ]
  },
  {
   "cell_type": "code",
   "execution_count": 94,
   "metadata": {},
   "outputs": [
    {
     "name": "stdout",
     "output_type": "stream",
     "text": [
      "ART_AND_DESIGN : 1986335.09\n",
      "AUTO_AND_VEHICLES : 647317.82\n",
      "BEAUTY : 513151.89\n",
      "BOOKS_AND_REFERENCE : 8767811.89\n",
      "BUSINESS : 1712290.15\n",
      "COMICS : 817657.27\n",
      "COMMUNICATION : 38456119.17\n",
      "DATING : 854028.83\n",
      "EDUCATION : 1833495.15\n",
      "ENTERTAINMENT : 11640705.88\n",
      "EVENTS : 253542.22\n",
      "FINANCE : 1387692.48\n",
      "FOOD_AND_DRINK : 1924897.74\n",
      "HEALTH_AND_FITNESS : 4188821.99\n",
      "HOUSE_AND_HOME : 1331540.56\n",
      "LIBRARIES_AND_DEMO : 638503.73\n",
      "LIFESTYLE : 1437816.27\n",
      "GAME : 15588015.6\n",
      "FAMILY : 3695641.82\n",
      "MEDICAL : 120550.62\n",
      "SOCIAL : 23253652.13\n",
      "SHOPPING : 7036877.31\n",
      "PHOTOGRAPHY : 17840110.4\n",
      "SPORTS : 3638640.14\n",
      "TRAVEL_AND_LOCAL : 13984077.71\n",
      "TOOLS : 10801391.3\n",
      "PERSONALIZATION : 5201482.61\n",
      "PRODUCTIVITY : 16787331.34\n",
      "PARENTING : 542603.62\n",
      "WEATHER : 5074486.2\n",
      "VIDEO_PLAYERS : 24727872.45\n",
      "NEWS_AND_MAGAZINES : 9549178.47\n",
      "MAPS_AND_NAVIGATION : 4056941.77\n"
     ]
    }
   ],
   "source": [
    "google_genre = freq_table (google_free, 1) # for Genre\n",
    "# freq_category\n",
    "\n",
    "for category in google_genre:\n",
    "    total = 0\n",
    "    len_category = 0\n",
    "    for row in google_free:\n",
    "        category_app = row[1]\n",
    "        if category_app ==  category:\n",
    "            n_installs =row[5]\n",
    "            n_installs =n_installs.replace(',', '')\n",
    "            n_installs =n_installs.replace('+', '')\n",
    "            total +=float(n_installs)\n",
    "            len_category +=1 \n",
    "    average_installs = total / len_category\n",
    "    print (category, \":\" , round(average_installs,2) )       "
   ]
  },
  {
   "cell_type": "markdown",
   "metadata": {},
   "source": [
    "the top three apps are communication,social,photography; followed by game, entertainment,books_and_reference\n",
    "\n",
    "the number of communication app installs is heavily skewed up by a few popular apps. <br/>\n",
    "below are 2 funtions to show apps with over or less 100m installs"
   ]
  },
  {
   "cell_type": "code",
   "execution_count": 95,
   "metadata": {},
   "outputs": [],
   "source": [
    "# function to show google apps with over 100M installs\n",
    "def app_100m_plus(category):\n",
    "    for app in google_free:\n",
    "        if app[1] ==  category and (app[5] == '1,000,000,000+'\n",
    "                                      or app[5] == '500,000,000+'\n",
    "                                      or app[5] == '100,000,000+'):\n",
    "           \n",
    "            print(app[0], ':', app[5])\n",
    "            \n",
    "# function to show apps with less than 100M installs            \n",
    "def app_100m_less(category):\n",
    "    for app in google_free:\n",
    "        if app[1] ==  category and (app[5] != '1,000,000,000+' \n",
    "                                    and app[5] != '500,000,000+' \n",
    "                                    and app[5] != '100,000,000+'):\n",
    "            \n",
    "            print(app[0], ':', app[5])"
   ]
  },
  {
   "cell_type": "markdown",
   "metadata": {},
   "source": [
    "Apply funtion app_100m_plus, we find out that communication Apps is heavily influenced by few over 100 millian installs <br/>\n",
    "We see the same pattern for the video players category and social apps. "
   ]
  },
  {
   "cell_type": "code",
   "execution_count": 96,
   "metadata": {},
   "outputs": [
    {
     "name": "stdout",
     "output_type": "stream",
     "text": [
      "WhatsApp Messenger : 1,000,000,000+\n",
      "imo beta free calls and text : 100,000,000+\n",
      "Android Messages : 100,000,000+\n",
      "Google Duo - High Quality Video Calls : 500,000,000+\n",
      "Messenger – Text and Video Chat for Free : 1,000,000,000+\n",
      "imo free video calls and chat : 500,000,000+\n",
      "Skype - free IM & video calls : 1,000,000,000+\n",
      "Who : 100,000,000+\n",
      "GO SMS Pro - Messenger, Free Themes, Emoji : 100,000,000+\n",
      "LINE: Free Calls & Messages : 500,000,000+\n",
      "Google Chrome: Fast & Secure : 1,000,000,000+\n",
      "Firefox Browser fast & private : 100,000,000+\n",
      "UC Browser - Fast Download Private & Secure : 500,000,000+\n",
      "Gmail : 1,000,000,000+\n",
      "Hangouts : 1,000,000,000+\n",
      "Messenger Lite: Free Calls & Messages : 100,000,000+\n",
      "Kik : 100,000,000+\n",
      "KakaoTalk: Free Calls & Text : 100,000,000+\n",
      "Opera Mini - fast web browser : 100,000,000+\n",
      "Opera Browser: Fast and Secure : 100,000,000+\n",
      "Telegram : 100,000,000+\n",
      "Truecaller: Caller ID, SMS spam blocking & Dialer : 100,000,000+\n",
      "UC Browser Mini -Tiny Fast Private & Secure : 100,000,000+\n",
      "Viber Messenger : 500,000,000+\n",
      "WeChat : 100,000,000+\n",
      "Yahoo Mail – Stay Organized : 100,000,000+\n",
      "BBM - Free Calls & Messages : 100,000,000+\n"
     ]
    }
   ],
   "source": [
    "app_100m_plus(\"COMMUNICATION\")"
   ]
  },
  {
   "cell_type": "markdown",
   "metadata": {},
   "source": [
    "We removed all the apps that have over 100 million installs, the average below shows the popularity google apps among second tier"
   ]
  },
  {
   "cell_type": "code",
   "execution_count": 97,
   "metadata": {},
   "outputs": [
    {
     "name": "stdout",
     "output_type": "stream",
     "text": [
      "ART_AND_DESIGN : 1986335.09\n",
      "AUTO_AND_VEHICLES : 647317.82\n",
      "BEAUTY : 513151.89\n",
      "BOOKS_AND_REFERENCE : 1437212.22\n",
      "BUSINESS : 1226918.74\n",
      "COMICS : 817657.27\n",
      "COMMUNICATION : 3603485.39\n",
      "DATING : 854028.83\n",
      "EDUCATION : 1833495.15\n",
      "ENTERTAINMENT : 6118250.0\n",
      "EVENTS : 253542.22\n",
      "FINANCE : 1086125.79\n",
      "FOOD_AND_DRINK : 1924897.74\n",
      "HEALTH_AND_FITNESS : 2005713.66\n",
      "HOUSE_AND_HOME : 1331540.56\n",
      "LIBRARIES_AND_DEMO : 638503.73\n",
      "LIFESTYLE : 1152128.78\n",
      "GAME : 6272564.69\n",
      "FAMILY : 2342897.53\n",
      "MEDICAL : 120550.62\n",
      "SOCIAL : 3084582.52\n",
      "SHOPPING : 4640920.54\n",
      "PHOTOGRAPHY : 7670532.29\n",
      "SPORTS : 2994082.55\n",
      "TRAVEL_AND_LOCAL : 2944079.63\n",
      "TOOLS : 3191461.13\n",
      "PERSONALIZATION : 2549775.83\n",
      "PRODUCTIVITY : 3379657.32\n",
      "PARENTING : 542603.62\n",
      "WEATHER : 5074486.2\n",
      "VIDEO_PLAYERS : 5544878.13\n",
      "NEWS_AND_MAGAZINES : 1502841.88\n",
      "MAPS_AND_NAVIGATION : 2484104.75\n"
     ]
    }
   ],
   "source": [
    "for category in google_genre:\n",
    "    total = 0\n",
    "    len_category = 0\n",
    "    for row in google_free:\n",
    "        category_app = row[1]\n",
    "        if category_app ==  category :\n",
    "            n_installs =row[5]\n",
    "            n_installs =n_installs.replace(',', '')\n",
    "            n_installs =n_installs.replace('+', '')\n",
    "            if float(n_installs) < 100000000:\n",
    "                total +=float(n_installs)\n",
    "                len_category +=1 \n",
    "    average_installs = total / len_category\n",
    "    print (category, \":\" , round(average_installs,2) )  "
   ]
  },
  {
   "cell_type": "markdown",
   "metadata": {},
   "source": [
    "Among the second tier apps, the top three are photography, game, entertainment. Run ups include,shopping,communication,social <BR>  \n",
    "    \n",
    "From the above analysis, we noticed photography app has potential. It performs well among all catagories. "
   ]
  },
  {
   "cell_type": "markdown",
   "metadata": {},
   "source": [
    "# 6. Conclusions\n",
    "\n",
    "In this project, we analyzed data about the App Store and Google Play mobile apps with the goal of recommending an app profile that can be profitable for both markets. \n",
    "\n",
    "We concluded that photography, game and book/reference app has potential"
   ]
  }
 ],
 "metadata": {
  "kernelspec": {
   "display_name": "Python 3",
   "language": "python",
   "name": "python3"
  },
  "language_info": {
   "codemirror_mode": {
    "name": "ipython",
    "version": 3
   },
   "file_extension": ".py",
   "mimetype": "text/x-python",
   "name": "python",
   "nbconvert_exporter": "python",
   "pygments_lexer": "ipython3",
   "version": "3.8.8"
  }
 },
 "nbformat": 4,
 "nbformat_minor": 4
}
