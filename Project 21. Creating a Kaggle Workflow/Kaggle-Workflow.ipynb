{
 "cells": [
  {
   "cell_type": "markdown",
   "metadata": {
    "id": "OWpsoBQdl88P"
   },
   "source": [
    "# Create a Kaggle Workflow"
   ]
  },
  {
   "cell_type": "code",
   "execution_count": 1,
   "metadata": {
    "id": "PC7jIanol88S"
   },
   "outputs": [],
   "source": [
    "import pandas as pd\n",
    "import numpy as np\n",
    "\n",
    "import warnings\n",
    "warnings.filterwarnings('ignore')\n",
    "\n",
    "# import the Titanic data set\n",
    "train = pd.read_csv('train.csv')\n",
    "holdout = pd.read_csv('test.csv')"
   ]
  },
  {
   "cell_type": "markdown",
   "metadata": {
    "id": "O2CjASy2l88T"
   },
   "source": [
    "##  1. Preprocessing the data"
   ]
  },
  {
   "cell_type": "code",
   "execution_count": 2,
   "metadata": {
    "id": "H08jNEBKl88T"
   },
   "outputs": [],
   "source": [
    "# %load  functions.py\n",
    "def process_missing(df):\n",
    "    \"\"\"\n",
    "      Handle various missing values from the data set\n",
    "    \"\"\"\n",
    "    df[\"Fare\"] = df[\"Fare\"].fillna(train[\"Fare\"].mean())\n",
    "    df[\"Embarked\"] = df[\"Embarked\"].fillna(\"S\")\n",
    "    return df\n",
    "\n",
    "def process_age(df):\n",
    "    \"\"\"\n",
    "      Process the Age column into pre-defined 'bins' \n",
    "    \"\"\"\n",
    "    df[\"Age\"] = df[\"Age\"].fillna(-0.5)\n",
    "    cut_points = [-1,0,5,12,18,35,60,100]\n",
    "    label_names = [\"Missing\",\"Infant\",\"Child\",\"Teenager\",\"Young Adult\",\"Adult\",\"Senior\"]\n",
    "    df[\"Age_categories\"] = pd.cut(df[\"Age\"],cut_points,labels=label_names)\n",
    "    return df\n",
    "\n",
    "def process_fare(df):\n",
    "    \"\"\"\n",
    "      Process the Fare column into pre-defined 'bins' \n",
    "    \"\"\"\n",
    "    cut_points = [-1,12,50,100,1000]\n",
    "    label_names = [\"0-12\",\"12-50\",\"50-100\",\"100+\"]\n",
    "    df[\"Fare_categories\"] = pd.cut(df[\"Fare\"],cut_points,labels=label_names)\n",
    "    return df\n",
    "\n",
    "def process_cabin(df):\n",
    "    \"\"\"\n",
    "      \"Process the Cabin column into pre-defined 'bins' \n",
    "    \"\"\"\n",
    "    df[\"Cabin_type\"] = df[\"Cabin\"].str[0]\n",
    "    df[\"Cabin_type\"] = df[\"Cabin_type\"].fillna(\"Unknown\")\n",
    "    df = df.drop('Cabin',axis=1)\n",
    "    return df\n",
    "\n",
    "def process_titles(df):\n",
    "    \"\"\"\n",
    "      Extract and categorize the title from the name column \n",
    "    \"\"\"\n",
    "    titles = {\n",
    "        \"Mr\" :         \"Mr\",\n",
    "        \"Mme\":         \"Mrs\",\n",
    "        \"Ms\":          \"Mrs\",\n",
    "        \"Mrs\" :        \"Mrs\",\n",
    "        \"Master\" :     \"Master\",\n",
    "        \"Mlle\":        \"Miss\",\n",
    "        \"Miss\" :       \"Miss\",\n",
    "        \"Capt\":        \"Officer\",\n",
    "        \"Col\":         \"Officer\",\n",
    "        \"Major\":       \"Officer\",\n",
    "        \"Dr\":          \"Officer\",\n",
    "        \"Rev\":         \"Officer\",\n",
    "        \"Jonkheer\":    \"Royalty\",\n",
    "        \"Don\":         \"Royalty\",\n",
    "        \"Sir\" :        \"Royalty\",\n",
    "        \"Countess\":    \"Royalty\",\n",
    "        \"Dona\":        \"Royalty\",\n",
    "        \"Lady\" :       \"Royalty\"\n",
    "    }\n",
    "    extracted_titles = df[\"Name\"].str.extract(' ([A-Za-z]+)\\.',expand=False)\n",
    "    df[\"Title\"] = extracted_titles.map(titles)\n",
    "    return df\n",
    "\n",
    "def create_dummies(df,column_name):\n",
    "    \"\"\"\n",
    "      Create Dummy Columns (One Hot Encoding) from a single Column\n",
    "    \"\"\"\n",
    "    dummies = pd.get_dummies(df[column_name],prefix=column_name)\n",
    "    df = pd.concat([df,dummies],axis=1)\n",
    "    return df"
   ]
  },
  {
   "cell_type": "code",
   "execution_count": 3,
   "metadata": {
    "id": "HbUTnECZl88U",
    "outputId": "b73cce3e-0be6-4cc7-fd61-f58da6abe2eb"
   },
   "outputs": [
    {
     "name": "stdout",
     "output_type": "stream",
     "text": [
      "<class 'pandas.core.frame.DataFrame'>\n",
      "RangeIndex: 891 entries, 0 to 890\n",
      "Data columns (total 43 columns):\n",
      " #   Column                      Non-Null Count  Dtype   \n",
      "---  ------                      --------------  -----   \n",
      " 0   PassengerId                 891 non-null    int64   \n",
      " 1   Survived                    891 non-null    int64   \n",
      " 2   Pclass                      891 non-null    int64   \n",
      " 3   Name                        891 non-null    object  \n",
      " 4   Sex                         891 non-null    object  \n",
      " 5   Age                         891 non-null    float64 \n",
      " 6   SibSp                       891 non-null    int64   \n",
      " 7   Parch                       891 non-null    int64   \n",
      " 8   Ticket                      891 non-null    object  \n",
      " 9   Fare                        891 non-null    float64 \n",
      " 10  Embarked                    891 non-null    object  \n",
      " 11  Age_categories              891 non-null    category\n",
      " 12  Fare_categories             891 non-null    category\n",
      " 13  Cabin_type                  891 non-null    object  \n",
      " 14  Title                       891 non-null    object  \n",
      " 15  Age_categories_Missing      891 non-null    uint8   \n",
      " 16  Age_categories_Infant       891 non-null    uint8   \n",
      " 17  Age_categories_Child        891 non-null    uint8   \n",
      " 18  Age_categories_Teenager     891 non-null    uint8   \n",
      " 19  Age_categories_Young Adult  891 non-null    uint8   \n",
      " 20  Age_categories_Adult        891 non-null    uint8   \n",
      " 21  Age_categories_Senior       891 non-null    uint8   \n",
      " 22  Fare_categories_0-12        891 non-null    uint8   \n",
      " 23  Fare_categories_12-50       891 non-null    uint8   \n",
      " 24  Fare_categories_50-100      891 non-null    uint8   \n",
      " 25  Fare_categories_100+        891 non-null    uint8   \n",
      " 26  Title_Master                891 non-null    uint8   \n",
      " 27  Title_Miss                  891 non-null    uint8   \n",
      " 28  Title_Mr                    891 non-null    uint8   \n",
      " 29  Title_Mrs                   891 non-null    uint8   \n",
      " 30  Title_Officer               891 non-null    uint8   \n",
      " 31  Title_Royalty               891 non-null    uint8   \n",
      " 32  Cabin_type_A                891 non-null    uint8   \n",
      " 33  Cabin_type_B                891 non-null    uint8   \n",
      " 34  Cabin_type_C                891 non-null    uint8   \n",
      " 35  Cabin_type_D                891 non-null    uint8   \n",
      " 36  Cabin_type_E                891 non-null    uint8   \n",
      " 37  Cabin_type_F                891 non-null    uint8   \n",
      " 38  Cabin_type_G                891 non-null    uint8   \n",
      " 39  Cabin_type_T                891 non-null    uint8   \n",
      " 40  Cabin_type_Unknown          891 non-null    uint8   \n",
      " 41  Sex_female                  891 non-null    uint8   \n",
      " 42  Sex_male                    891 non-null    uint8   \n",
      "dtypes: category(2), float64(2), int64(5), object(6), uint8(28)\n",
      "memory usage: 117.3+ KB\n",
      "None\n"
     ]
    }
   ],
   "source": [
    "def process_df(input_df): \n",
    "    df = process_missing(input_df)\n",
    "    df = process_age(df)\n",
    "    df = process_fare(df)\n",
    "    df = process_cabin(df)\n",
    "    df = process_titles(df)\n",
    "    for col in [\"Age_categories\", \"Fare_categories\",\"Title\", \"Cabin_type\", \"Sex\"]:\n",
    "        df = create_dummies(df,col)\n",
    "    return df\n",
    "\n",
    "train = process_df(train)\n",
    "holdout  = process_df(holdout )\n",
    "\n",
    "print(train.info())"
   ]
  },
  {
   "cell_type": "markdown",
   "metadata": {
    "id": "XJ6G7sCol88V"
   },
   "source": [
    "## 2.Explore the data\n",
    "\n",
    "Use pandas and matplotlib to explore SibSp and Parch columns.\n"
   ]
  },
  {
   "cell_type": "code",
   "execution_count": 4,
   "metadata": {
    "id": "yjSNRQ9kl88W",
    "outputId": "04ba2c23-0cae-44f9-96ba-b1ceeda36115"
   },
   "outputs": [
    {
     "name": "stdout",
     "output_type": "stream",
     "text": [
      "<class 'pandas.core.frame.DataFrame'>\n",
      "RangeIndex: 891 entries, 0 to 890\n",
      "Data columns (total 2 columns):\n",
      " #   Column  Non-Null Count  Dtype\n",
      "---  ------  --------------  -----\n",
      " 0   SibSp   891 non-null    int64\n",
      " 1   Parch   891 non-null    int64\n",
      "dtypes: int64(2)\n",
      "memory usage: 14.0 KB\n"
     ]
    }
   ],
   "source": [
    "explore_cols = [\"SibSp\",\"Parch\"]\n",
    "explore = train[explore_cols].copy()\n",
    "explore.info()"
   ]
  },
  {
   "cell_type": "code",
   "execution_count": 5,
   "metadata": {
    "id": "_CA34Gqzl88W",
    "outputId": "6d7e954e-f405-416a-ba41-e807ff07db15"
   },
   "outputs": [
    {
     "data": {
      "text/plain": [
       "<AxesSubplot:ylabel='Frequency'>"
      ]
     },
     "execution_count": 5,
     "metadata": {},
     "output_type": "execute_result"
    },
    {
     "data": {
      "image/png": "[encoded data removed]",
      "text/plain": [
       "<Figure size 432x288 with 1 Axes>"
      ]
     },
     "metadata": {
      "needs_background": "light"
     },
     "output_type": "display_data"
    }
   ],
   "source": [
    "import matplotlib.pyplot as plt\n",
    "%matplotlib inline\n",
    "\n",
    "explore.plot.hist(alpha=0.5,bins=8)"
   ]
  },
  {
   "cell_type": "code",
   "execution_count": 6,
   "metadata": {
    "id": "Ol1qz23Wl88W",
    "outputId": "a6cf3cdb-7b11-4de3-d7c6-22fcbfcee510"
   },
   "outputs": [
    {
     "data": {
      "text/plain": [
       "<AxesSubplot:ylabel='Frequency'>"
      ]
     },
     "execution_count": 6,
     "metadata": {},
     "output_type": "execute_result"
    },
    {
     "data": {
      "image/png": "[encoded data removed]",
      "text/plain": [
       "<Figure size 432x288 with 1 Axes>"
      ]
     },
     "metadata": {
      "needs_background": "light"
     },
     "output_type": "display_data"
    }
   ],
   "source": [
    "explore[\"familysize\"] = explore[[\"SibSp\",\"Parch\"]].sum(axis=1)\n",
    "explore.plot.hist(alpha=0.5,bins=8)"
   ]
  },
  {
   "cell_type": "code",
   "execution_count": 7,
   "metadata": {
    "id": "wUX7hLmSl88X",
    "outputId": "17e1e660-683d-4f26-ea44-a94d36b747f5"
   },
   "outputs": [
    {
     "data": {
      "image/png": "[encoded data removed]",
      "text/plain": [
       "<Figure size 432x288 with 1 Axes>"
      ]
     },
     "metadata": {
      "needs_background": "light"
     },
     "output_type": "display_data"
    },
    {
     "data": {
      "image/png": "[encoded data removed]",
      "text/plain": [
       "<Figure size 432x288 with 1 Axes>"
      ]
     },
     "metadata": {
      "needs_background": "light"
     },
     "output_type": "display_data"
    },
    {
     "data": {
      "image/png": "[encoded data removed]",
      "text/plain": [
       "<Figure size 432x288 with 1 Axes>"
      ]
     },
     "metadata": {
      "needs_background": "light"
     },
     "output_type": "display_data"
    }
   ],
   "source": [
    "explore['Survived'] = train['Survived']\n",
    "\n",
    "for col in explore.columns.drop('Survived'):\n",
    "    pivot = explore.pivot_table(index=col,values=\"Survived\")\n",
    "    pivot.plot.bar(ylim=(0,1),yticks=np.arange(0,1,.1))\n",
    "    plt.axhspan(.3, .6, alpha=0.2, color='red')\n",
    "    plt.show()\n"
   ]
  },
  {
   "cell_type": "markdown",
   "metadata": {
    "id": "lIhdzxt6l88X"
   },
   "source": [
    "\n",
    "The SibSp column shows the number of siblings and/or spouses each passenger had on board, while the Parch columns shows the number of parents or children each passenger had onboard. Neither column has any missing values.\n",
    "\n",
    "The distribution of values in both columns is skewed right, with the majority of values being zero.\n",
    "\n",
    "You can sum these two columns to explore the total number of family members each passenger had onboard. The shape of the distribution of values in this case is similar, however there are less values at zero, and the quantity tapers off less rapidly as the values increase.\n",
    "\n",
    "Looking at the survival rates of the the combined family members, you can see that few of the over 500 passengers with no family members survived, while greater numbers of passengers with family members survived.\n",
    "\n",
    "## 3. Enginnering New Features\n"
   ]
  },
  {
   "cell_type": "code",
   "execution_count": 8,
   "metadata": {
    "id": "Ul4IUxKml88Y"
   },
   "outputs": [],
   "source": [
    "def process_isalone(df):\n",
    "    df[\"familysize\"] = df[[\"SibSp\",\"Parch\"]].sum(axis=1)\n",
    "    df['isalone'] = 0\n",
    "    df.loc[(df[\"familysize\"] == 0),\"isalone\"] = 1\n",
    "    return df\n",
    "train = process_isalone(train)\n",
    "holdout = process_isalone(holdout)   "
   ]
  },
  {
   "cell_type": "markdown",
   "metadata": {
    "id": "xvzDMTL9l88Y"
   },
   "source": [
    "## 4. Selecting the Best_Performing Features"
   ]
  },
  {
   "cell_type": "code",
   "execution_count": 9,
   "metadata": {
    "id": "bs-SVtQ4l88Y",
    "outputId": "6bee6824-5e61-4014-9165-b5a7b868a064"
   },
   "outputs": [
    {
     "data": {
      "text/plain": [
       "Index(['Pclass', 'Age', 'SibSp', 'Parch', 'Fare', 'Age_categories_Missing',\n",
       "       'Age_categories_Infant', 'Age_categories_Young Adult',\n",
       "       'Age_categories_Adult', 'Fare_categories_0-12', 'Fare_categories_12-50',\n",
       "       'Fare_categories_50-100', 'Title_Master', 'Title_Miss', 'Title_Mr',\n",
       "       'Title_Mrs', 'Cabin_type_E', 'Cabin_type_Unknown', 'Sex_female',\n",
       "       'Sex_male', 'familysize'],\n",
       "      dtype='object')"
      ]
     },
     "execution_count": 9,
     "metadata": {},
     "output_type": "execute_result"
    }
   ],
   "source": [
    "from sklearn.feature_selection import RFECV\n",
    "from sklearn.ensemble import RandomForestClassifier\n",
    "\n",
    "def select_features(df):\n",
    "    df = df.select_dtypes([np.number]).dropna(axis=1)\n",
    "    all_X = df.drop([\"Survived\",\"PassengerId\"],axis=1)\n",
    "    all_y = df[\"Survived\"]\n",
    "    \n",
    "    clf =RandomForestClassifier(random_state = 1)\n",
    "    selector = RFECV(clf,cv=10)\n",
    "    selector.fit(all_X,all_y)\n",
    "\n",
    "    best_columns = all_X.columns[selector.support_]\n",
    "    return best_columns\n",
    "\n",
    "cols = select_features(train)\n",
    "cols"
   ]
  },
  {
   "cell_type": "markdown",
   "metadata": {
    "id": "L71tMBfvl88Z"
   },
   "source": [
    "## 5.Selecting and tuning differnet algorithms"
   ]
  },
  {
   "cell_type": "code",
   "execution_count": 10,
   "metadata": {
    "id": "f-RYcTh1l88Z",
    "outputId": "16ce9b1c-cc38-4f6e-ca79-d37a0980c97a"
   },
   "outputs": [
    {
     "name": "stdout",
     "output_type": "stream",
     "text": [
      "Best Model:LogisticRegression(solver='newton-cg')\n",
      "Best Score:0.821598002496879\n",
      "Best Model:KNeighborsClassifier(algorithm='ball_tree', n_neighbors=7, p=1)\n",
      "Best Score:0.7822971285892635\n",
      "Best Model:RandomForestClassifier(criterion='entropy', max_depth=5, max_features='log2',\n",
      "                       min_samples_split=3, n_estimators=6)\n",
      "Best Score:0.8383895131086143\n"
     ]
    }
   ],
   "source": [
    "from sklearn.linear_model import LogisticRegression\n",
    "from sklearn.neighbors import KNeighborsClassifier\n",
    "from sklearn.model_selection import GridSearchCV\n",
    "\n",
    "def select_model(df,features):\n",
    "    all_X = df[features]\n",
    "    all_y = df[\"Survived\"]\n",
    "    \n",
    "    models = [\n",
    "    {\n",
    "        \"name\": \"LogisticRegression\",\n",
    "    \t\"estimator\": LogisticRegression(),\n",
    "    \t\"hyperparameters\":\n",
    "        {\n",
    "            \"solver\": [\"newton-cg\", \"lbfgs\", \"liblinear\"]\n",
    "    \n",
    "        }\n",
    "    },   \n",
    "    {\n",
    "        \"name\": \"KNeighborsClassifier\",\n",
    "    \t\"estimator\": KNeighborsClassifier(),\n",
    "    \t\"hyperparameters\":\n",
    "        {\n",
    "            \"n_neighbors\": range(1,20,2),\n",
    "            \"weights\": [\"distance\", \"uniform\"],\n",
    "            \"algorithm\": [\"ball_tree\", \"kd_tree\", \"brute\"],\n",
    "            \"p\": [1,2]\n",
    "        }\n",
    "\t},\n",
    "\t{\n",
    "        \"name\": \"RandomForestClassifier\",\n",
    "    \t\"estimator\": RandomForestClassifier(),\n",
    "    \t\"hyperparameters\":\n",
    "        {\n",
    "            \"n_estimators\": [4, 6, 9],\n",
    "\t\t\t\"criterion\": [\"entropy\", \"gini\"],\n",
    "\t\t\t\"max_depth\": [2, 5, 10],\n",
    "\t\t\t\"max_features\": [\"log2\", \"sqrt\"],\n",
    "\t\t\t\"min_samples_leaf\": [1, 5, 8],\n",
    "\t\t\t\"min_samples_split\": [2, 3, 5]\n",
    "        }\n",
    "\t}]\n",
    "    \n",
    "    for model in models:\n",
    "        grid = GridSearchCV(model['estimator'], param_grid=model['hyperparameters'], cv=10)\n",
    "        grid.fit(all_X, all_y)\n",
    "        model[\"best_params\"] = grid.best_params_\n",
    "        model[\"best_score\"] = grid.best_score_\n",
    "        model[\"best_model\"] = grid.best_estimator_\n",
    "        print (\"Best Model:\" + str(grid.best_estimator_))\n",
    "        print (\"Best Score:\" + str(grid.best_score_))\n",
    "    return models\n",
    "\n",
    "result = select_model(train,cols)"
   ]
  },
  {
   "cell_type": "markdown",
   "metadata": {
    "id": "UXfZBnoPl88a"
   },
   "source": [
    "## 6.Making a submmision on Kaggle"
   ]
  },
  {
   "cell_type": "code",
   "execution_count": 11,
   "metadata": {
    "id": "PLL8TszCl88a"
   },
   "outputs": [],
   "source": [
    "def save_submission_file(model,cols,filename=\"submission.csv\"):\n",
    "    holdout_data = holdout[cols]\n",
    "    predictions = model.predict(holdout_data)\n",
    "    \n",
    "    holdout_ids = holdout[\"PassengerId\"]\n",
    "    submission_df = {\"PassengerId\": holdout_ids,\n",
    "                 \"Survived\": predictions}\n",
    "    submission = pd.DataFrame(submission_df)\n",
    "\n",
    "    submission.to_csv(filename,index=False)\n",
    "\n",
    "best_rf_model = result[2][\"best_model\"]\n",
    "save_submission_file(best_rf_model,cols)"
   ]
  }
 ],
 "metadata": {
  "colab": {
   "collapsed_sections": [],
   "name": " Create-A-Kaggle-Workflow.ipynb",
   "provenance": []
  },
  "kernelspec": {
   "display_name": "Python 3",
   "language": "python",
   "name": "python3"
  },
  "language_info": {
   "codemirror_mode": {
    "name": "ipython",
    "version": 3
   },
   "file_extension": ".py",
   "mimetype": "text/x-python",
   "name": "python",
   "nbconvert_exporter": "python",
   "pygments_lexer": "ipython3",
   "version": "3.8.8"
  }
 },
 "nbformat": 4,
 "nbformat_minor": 4
}
