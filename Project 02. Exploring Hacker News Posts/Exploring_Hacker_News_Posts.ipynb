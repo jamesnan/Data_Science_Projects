{
 "cells": [
  {
   "cell_type": "markdown",
   "metadata": {},
   "source": [
    "# Exploring Hackers News Posts\n",
    "In this project, we'll work with a data set of submissions to popular technology site [Hacker News](https://news.ycombinator.com/), where user-submitted stories (known as \"posts\") are voted and commented upon, similar to reddit. You can find the data set from [Kaggle](https://www.kaggle.com/hacker-news/hacker-news-posts)\n",
    "\n",
    "\n",
    "We're specifically interested in posts whose titles begin with either Ask HN or Show HN.  Our goal is to compare two types of posts to determine the following:\n",
    "* Do Ask HN or Show HN receive more comments on average?\n",
    "* Do posts created at a certain time receive more comments on average?\n",
    "\n",
    "\n",
    "## 1. Loading Data\n",
    "We start by reading the \"hacker_news.csv\" file in as a list of lists, then display the first six rows."
   ]
  },
  {
   "cell_type": "code",
   "execution_count": 1,
   "metadata": {},
   "outputs": [
    {
     "data": {
      "text/plain": [
       "[['id', 'title', 'url', 'num_points', 'num_comments', 'author', 'created_at'],\n",
       " ['12224879',\n",
       "  'Interactive Dynamic Video',\n",
       "  'http://www.interactivedynamicvideo.com/',\n",
       "  '386',\n",
       "  '52',\n",
       "  'ne0phyte',\n",
       "  '8/4/2016 11:52'],\n",
       " ['10975351',\n",
       "  'How to Use Open Source and Shut the Fuck Up at the Same Time',\n",
       "  'http://hueniverse.com/2016/01/26/how-to-use-open-source-and-shut-the-fuck-up-at-the-same-time/',\n",
       "  '39',\n",
       "  '10',\n",
       "  'josep2',\n",
       "  '1/26/2016 19:30'],\n",
       " ['11964716',\n",
       "  \"Florida DJs May Face Felony for April Fools' Water Joke\",\n",
       "  'http://www.thewire.com/entertainment/2013/04/florida-djs-april-fools-water-joke/63798/',\n",
       "  '2',\n",
       "  '1',\n",
       "  'vezycash',\n",
       "  '6/23/2016 22:20'],\n",
       " ['11919867',\n",
       "  'Technology ventures: From Idea to Enterprise',\n",
       "  'https://www.amazon.com/Technology-Ventures-Enterprise-Thomas-Byers/dp/0073523429',\n",
       "  '3',\n",
       "  '1',\n",
       "  'hswarna',\n",
       "  '6/17/2016 0:01']]"
      ]
     },
     "execution_count": 1,
     "metadata": {},
     "output_type": "execute_result"
    }
   ],
   "source": [
    " # read csv file as a list of lists\n",
    "from csv import reader\n",
    "read_obj =open('hacker_news.csv') \n",
    "csv_reader = reader(read_obj)\n",
    "hn = list(csv_reader)\n",
    "hn[:5]"
   ]
  },
  {
   "cell_type": "markdown",
   "metadata": {},
   "source": [
    "The above data set contains the following columns:\n",
    "\n",
    "1. id: post id\n",
    "2. title : title of posts\n",
    "3. url: post url\n",
    "4. num_points: number of points on post\n",
    "5. num_comments: number of comments on post\n",
    "6. author:  author of post\n",
    "7. created_at: the date the post was created. \n",
    "\n",
    "\n",
    "## 2. Removing Headers from a List of Lists\n",
    "\n",
    "In order to analyze our data, we need to first remove the row containing the column headers. Let's remove that first row next.\n",
    "\n",
    "* Extract the first row of data, and assign it to the variable headers.\n",
    "* Remove the first row from, display headers.\n",
    "* Display the first five rows of hn to verify that you removed the header row properly."
   ]
  },
  {
   "cell_type": "code",
   "execution_count": 2,
   "metadata": {},
   "outputs": [
    {
     "name": "stdout",
     "output_type": "stream",
     "text": [
      "Display the headers:\n",
      "['id', 'title', 'url', 'num_points', 'num_comments', 'author', 'created_at']\n",
      "Display the first five rows:\n",
      "[['12224879', 'Interactive Dynamic Video', 'http://www.interactivedynamicvideo.com/', '386', '52', 'ne0phyte', '8/4/2016 11:52'], ['10975351', 'How to Use Open Source and Shut the Fuck Up at the Same Time', 'http://hueniverse.com/2016/01/26/how-to-use-open-source-and-shut-the-fuck-up-at-the-same-time/', '39', '10', 'josep2', '1/26/2016 19:30'], ['11964716', \"Florida DJs May Face Felony for April Fools' Water Joke\", 'http://www.thewire.com/entertainment/2013/04/florida-djs-april-fools-water-joke/63798/', '2', '1', 'vezycash', '6/23/2016 22:20'], ['11919867', 'Technology ventures: From Idea to Enterprise', 'https://www.amazon.com/Technology-Ventures-Enterprise-Thomas-Byers/dp/0073523429', '3', '1', 'hswarna', '6/17/2016 0:01'], ['10301696', 'Note by Note: The Making of Steinway L1037 (2007)', 'http://www.nytimes.com/2007/11/07/movies/07stein.html?_r=0', '8', '2', 'walterbell', '9/30/2015 4:12']]\n"
     ]
    }
   ],
   "source": [
    "headers = hn[0]\n",
    "hn = hn[1:]\n",
    "\n",
    "print(\"Display the headers:\" )\n",
    "print(headers)\n",
    "\n",
    "print(\"Display the first five rows:\" )\n",
    "print (hn[:5])"
   ]
  },
  {
   "cell_type": "markdown",
   "metadata": {},
   "source": [
    "## 3.  Extracting Ask HN and Show HN Posts\n",
    "\n",
    "We will separate posts beginning with Ask HN and Show HN into two different lists next. We'll do the following:\n",
    "\n",
    "* Create three empty lists called ask_posts, show_posts, and other_posts.\n",
    "* Loop through each row in hn.\n",
    "* Get the title at index 1 in each row, assign it to variable title.\n",
    "* If the lowercase version of title starts with ask hn, append the row to ask_posts.\n",
    "* Else if the lowercase version of title starts with show hn, append the row to show_posts.\n",
    "* Else append to other_posts.\n",
    "* Check the number of posts in ask_posts, show_posts, and other_posts."
   ]
  },
  {
   "cell_type": "code",
   "execution_count": 3,
   "metadata": {},
   "outputs": [
    {
     "name": "stdout",
     "output_type": "stream",
     "text": [
      "number of ask posts: 1744\n",
      "number of show posts: 1162\n",
      "number of other posts: 17194\n"
     ]
    }
   ],
   "source": [
    "ask_posts = []\n",
    "show_posts = []\n",
    "other_posts = []\n",
    "\n",
    "for row in hn:\n",
    "    title = row[1]\n",
    "    if title.lower().startswith('ask hn'):\n",
    "        ask_posts.append(row)\n",
    "    elif title.lower().startswith('show hn'):\n",
    "        show_posts.append(row)\n",
    "    else:\n",
    "        other_posts.append(row)\n",
    "\n",
    "print (\"number of ask posts: \" + str(len(ask_posts)))\n",
    "print (\"number of show posts: \" + str(len(show_posts)))        \n",
    "print (\"number of other posts: \" + str(len(other_posts)))     \n"
   ]
  },
  {
   "cell_type": "markdown",
   "metadata": {},
   "source": [
    "## 4. Calculating the Average Number of Comments for Ask HN and Show HN Posts\n",
    "Next, let's determine if ask posts or show posts receive more comments on average.\n",
    "\n",
    "Fist define a function,\n",
    "* Set total_ask_comments to 0.\n",
    "* Use a for loop to iterate over the posts list\n",
    "  * Get the num_comments element from index 4 in each row.\n",
    "  * Add this value to total_comments.\n",
    "* Compute the average number of comments on posts and return the value\n",
    "\n",
    "Use the above function to get average number of ask post and show post, and print the number out."
   ]
  },
  {
   "cell_type": "code",
   "execution_count": 4,
   "metadata": {},
   "outputs": [
    {
     "name": "stdout",
     "output_type": "stream",
     "text": [
      "Average number of ask comments: 14\n",
      "Average number of show comments: 10\n"
     ]
    }
   ],
   "source": [
    "def avg_comments (posts):\n",
    "    total_comments = 0\n",
    "    for row in posts:\n",
    "        total_comments += int(row[4])\n",
    "    avg_comments = total_comments / len(posts)\n",
    "    return  int(avg_comments)\n",
    "\n",
    "avg_ask_comments =avg_comments(ask_posts)\n",
    "print( \"Average number of ask comments: \" + str(avg_ask_comments))\n",
    "\n",
    "avg_show_comments =avg_comments(show_posts)\n",
    "print( \"Average number of show comments: \" + str(avg_show_comments)) "
   ]
  },
  {
   "cell_type": "markdown",
   "metadata": {},
   "source": [
    "On average, ask posts receive 4 more comments. Since ask posts are more likely to receive comments, we'll focus our remaining analysis just on these posts\n",
    "\n",
    "\n",
    "## 5.  Finding the Amount of Ask Posts and Comments by Hour Created\n",
    "\n",
    "We'll determine if ask posts created at a certain time are more likely to attract comments. We'll use the following steps to perform this analysis:\n",
    "\n",
    "* Calculate the amount of ask posts created in each hour of the day\n",
    "* Calculate the number of comments received created in each hour of the day."
   ]
  },
  {
   "cell_type": "code",
   "execution_count": 5,
   "metadata": {},
   "outputs": [
    {
     "data": {
      "text/plain": [
       "{'09': 45,\n",
       " '13': 85,\n",
       " '10': 59,\n",
       " '14': 107,\n",
       " '16': 108,\n",
       " '23': 68,\n",
       " '12': 73,\n",
       " '17': 100,\n",
       " '15': 116,\n",
       " '21': 109,\n",
       " '20': 80,\n",
       " '02': 58,\n",
       " '18': 109,\n",
       " '03': 54,\n",
       " '05': 46,\n",
       " '19': 110,\n",
       " '01': 60,\n",
       " '22': 71,\n",
       " '08': 48,\n",
       " '04': 47,\n",
       " '00': 55,\n",
       " '06': 44,\n",
       " '07': 34,\n",
       " '11': 58}"
      ]
     },
     "execution_count": 5,
     "metadata": {},
     "output_type": "execute_result"
    }
   ],
   "source": [
    "import datetime as dt\n",
    "\n",
    "# Iterate over ask_posts, append to result_list a list with two elements:\n",
    "#    column created_at and the number of comments of the post.\n",
    "result_list =[]\n",
    "for row in ask_posts:\n",
    "    created_at = row[6]\n",
    "    num_comments = int(row[4])\n",
    "    result_list.append([created_at,num_comments])\n",
    "\n",
    "# Loop through each row of result_list\n",
    "# calculate the amount of ask posts created and comments per hour\n",
    "counts_by_hour ={}\n",
    "comments_by_hour ={}\n",
    "\n",
    "for row in result_list:\n",
    "    comment_num = row[1]\n",
    "    date =  dt.datetime.strptime(row[0],\"%m/%d/%Y %H:%M\")\n",
    "    hr = date.strftime(\"%H\") # hr = date.hour\n",
    "    if hr not in counts_by_hour:\n",
    "        counts_by_hour[hr] = 1\n",
    "        comments_by_hour [hr] = int(comment_num)\n",
    "    else:\n",
    "        counts_by_hour[hr] += 1\n",
    "        comments_by_hour[hr] += int(comment_num)\n",
    "\n",
    "counts_by_hour\n",
    "# comments_by_hour"
   ]
  },
  {
   "cell_type": "markdown",
   "metadata": {},
   "source": [
    "## 6. Calculating the Average Number of Comments for Ask HN Posts by Hour"
   ]
  },
  {
   "cell_type": "code",
   "execution_count": 6,
   "metadata": {},
   "outputs": [
    {
     "data": {
      "text/plain": [
       "[['09', 5.58],\n",
       " ['13', 14.74],\n",
       " ['10', 13.44],\n",
       " ['14', 13.23],\n",
       " ['16', 16.8],\n",
       " ['23', 7.99],\n",
       " ['12', 9.41],\n",
       " ['17', 11.46],\n",
       " ['15', 38.59],\n",
       " ['21', 16.01],\n",
       " ['20', 21.52],\n",
       " ['02', 23.81],\n",
       " ['18', 13.2],\n",
       " ['03', 7.8],\n",
       " ['05', 10.09],\n",
       " ['19', 10.8],\n",
       " ['01', 11.38],\n",
       " ['22', 6.75],\n",
       " ['08', 10.25],\n",
       " ['04', 7.17],\n",
       " ['00', 8.13],\n",
       " ['06', 9.02],\n",
       " ['07', 7.85],\n",
       " ['11', 11.05]]"
      ]
     },
     "execution_count": 6,
     "metadata": {},
     "output_type": "execute_result"
    }
   ],
   "source": [
    "# Calculate average number of comments each posts received by hour\n",
    "#  avg_by_hour = comments_by_hour / counts_by_hour\n",
    "\n",
    "avg_by_hour = []\n",
    "for hr in counts_by_hour:\n",
    "    avg = int(comments_by_hour[hr]) / int(counts_by_hour[hr])\n",
    "    avg_by_hour.append([hr,round(avg,2)])\n",
    "\n",
    "avg_by_hour"
   ]
  },
  {
   "cell_type": "markdown",
   "metadata": {},
   "source": [
    "\n",
    "## 7. Sorting and Printing Values from a List of Lists\n",
    "\n",
    "Let's finish by sorting the list of lists and printing the five highest values in a format that's easier to read."
   ]
  },
  {
   "cell_type": "code",
   "execution_count": 7,
   "metadata": {},
   "outputs": [
    {
     "name": "stdout",
     "output_type": "stream",
     "text": [
      "[[5.58, '09'], [14.74, '13'], [13.44, '10'], [13.23, '14'], [16.8, '16'], [7.99, '23'], [9.41, '12'], [11.46, '17'], [38.59, '15'], [16.01, '21'], [21.52, '20'], [23.81, '02'], [13.2, '18'], [7.8, '03'], [10.09, '05'], [10.8, '19'], [11.38, '01'], [6.75, '22'], [10.25, '08'], [7.17, '04'], [8.13, '00'], [9.02, '06'], [7.85, '07'], [11.05, '11']]\n",
      "Top 5 Hours for Ask Posts Comments\n",
      "15:00: 38.59 average comments per post.\n",
      "02:00: 23.81 average comments per post.\n",
      "20:00: 21.52 average comments per post.\n",
      "16:00: 16.80 average comments per post.\n",
      "21:00: 16.01 average comments per post.\n"
     ]
    }
   ],
   "source": [
    "# Swap first and secound elemet of avg_by_hour, and save result to list swap_avg_by_hour\n",
    "swap_avg_by_hour = []\n",
    "\n",
    "for row in avg_by_hour:\n",
    "     swap_avg_by_hour.append([row[1],row[0]])\n",
    "print (swap_avg_by_hour)        \n",
    "\n",
    "\n",
    "# sort swap_avg_by_hour in descending order, and save reuslt to list sorted_swap\n",
    "swap_avg_by_hour.sort(reverse= True)\n",
    "sorted_swap =swap_avg_by_hour\n",
    "\n",
    "print (\"Top 5 Hours for Ask Posts Comments\")\n",
    "template =\"{}:00: {:.2f} average comments per post.\"\n",
    "for row in sorted_swap[:5]:\n",
    "        print (template.format(row[1],row[0]))        "
   ]
  },
  {
   "cell_type": "markdown",
   "metadata": {},
   "source": [
    "Based on above analysis, the top hours that at receives the  most comment are:\n",
    "15:00, 02;00, 20:00,16:00, 21:00.\n",
    "\n",
    "## Conclusion \n",
    "The best time to create ASK HN post is  3:00 pm - 4:00 pm est to revive the most comments. "
   ]
  }
 ],
 "metadata": {
  "kernelspec": {
   "display_name": "Python 3",
   "language": "python",
   "name": "python3"
  },
  "language_info": {
   "codemirror_mode": {
    "name": "ipython",
    "version": 3
   },
   "file_extension": ".py",
   "mimetype": "text/x-python",
   "name": "python",
   "nbconvert_exporter": "python",
   "pygments_lexer": "ipython3",
   "version": "3.8.8"
  }
 },
 "nbformat": 4,
 "nbformat_minor": 4
}
