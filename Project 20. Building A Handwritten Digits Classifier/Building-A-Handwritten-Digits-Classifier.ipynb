{
 "cells": [
  {
   "cell_type": "markdown",
   "metadata": {
    "id": "bYYOI4f_9xRX"
   },
   "source": [
    "\n",
    "# Building A Handwritten Digits Classifier\n",
    "\n",
    "In this project, we'll:\n",
    "\n",
    "* explore why image classification is a hard task\n",
    "* build models that can classify handwritten digits.\n",
    "* observe the limitations of traditional machine learning models for image classification\n",
    "* train, test, and improve a few different deep neural networks for image classification\n",
    "\n",
    "\n",
    "##  1. Import Data\n",
    "\n",
    "Scikit-learn contains a number of datasets pre-loaded with the library, within the namespace of sklearn.datasets. The load_digits() function returns a copy of the [hand-written digits dataset](http://archive.ics.uci.edu/ml/datasets/Optical+Recognition+of+Handwritten+Digits) from UCI."
   ]
  },
  {
   "cell_type": "code",
   "execution_count": 2,
   "metadata": {
    "colab": {
     "base_uri": "https://localhost:8080/"
    },
    "executionInfo": {
     "elapsed": 206,
     "status": "ok",
     "timestamp": 1622600976646,
     "user": {
      "displayName": "James",
      "photoUrl": "",
      "userId": "16967292647882661147"
     },
     "user_tz": 240
    },
    "id": "gEn9iplc9xRb",
    "outputId": "f9627bc8-5171-4a88-c07f-c46797b46884"
   },
   "outputs": [
    {
     "data": {
      "text/plain": [
       "dict_keys(['data', 'target', 'frame', 'feature_names', 'target_names', 'images', 'DESCR'])"
      ]
     },
     "execution_count": 2,
     "metadata": {},
     "output_type": "execute_result"
    }
   ],
   "source": [
    "import pandas as pd\n",
    "import numpy as np\n",
    "import matplotlib.pyplot as plt\n",
    "%matplotlib inline\n",
    "\n",
    "import warnings\n",
    "warnings.filterwarnings('ignore')\n",
    "                        \n",
    "from sklearn.datasets import load_digits    \n",
    "digits_data = load_digits() \n",
    "\n",
    "digits_data.keys()"
   ]
  },
  {
   "cell_type": "code",
   "execution_count": 3,
   "metadata": {
    "colab": {
     "base_uri": "https://localhost:8080/"
    },
    "executionInfo": {
     "elapsed": 238,
     "status": "ok",
     "timestamp": 1622600977643,
     "user": {
      "displayName": "James",
      "photoUrl": "",
      "userId": "16967292647882661147"
     },
     "user_tz": 240
    },
    "id": "4QOJdU1A9xRc",
    "outputId": "dfcf6c55-e06c-43c7-abcd-7f04375e030f"
   },
   "outputs": [
    {
     "data": {
      "text/plain": [
       "0       0\n",
       "1       1\n",
       "2       2\n",
       "3       3\n",
       "4       4\n",
       "       ..\n",
       "1792    9\n",
       "1793    0\n",
       "1794    8\n",
       "1795    9\n",
       "1796    8\n",
       "Length: 1797, dtype: int32"
      ]
     },
     "execution_count": 3,
     "metadata": {},
     "output_type": "execute_result"
    }
   ],
   "source": [
    "labels = pd.Series(digits_data['target'])\n",
    "labels"
   ]
  },
  {
   "cell_type": "code",
   "execution_count": 4,
   "metadata": {
    "colab": {
     "base_uri": "https://localhost:8080/",
     "height": 439
    },
    "executionInfo": {
     "elapsed": 22,
     "status": "ok",
     "timestamp": 1622600977645,
     "user": {
      "displayName": "James",
      "photoUrl": "",
      "userId": "16967292647882661147"
     },
     "user_tz": 240
    },
    "id": "UKb72gNF9xRc",
    "outputId": "0ee7f85f-f16e-4df3-a74e-2bd016fbc094"
   },
   "outputs": [
    {
     "data": {
      "text/html": [
       "<div>\n",
       "<style scoped>\n",
       "    .dataframe tbody tr th:only-of-type {\n",
       "        vertical-align: middle;\n",
       "    }\n",
       "\n",
       "    .dataframe tbody tr th {\n",
       "        vertical-align: top;\n",
       "    }\n",
       "\n",
       "    .dataframe thead th {\n",
       "        text-align: right;\n",
       "    }\n",
       "</style>\n",
       "<table border=\"1\" class=\"dataframe\">\n",
       "  <thead>\n",
       "    <tr style=\"text-align: right;\">\n",
       "      <th></th>\n",
       "      <th>0</th>\n",
       "      <th>1</th>\n",
       "      <th>2</th>\n",
       "      <th>3</th>\n",
       "      <th>4</th>\n",
       "      <th>5</th>\n",
       "      <th>6</th>\n",
       "      <th>7</th>\n",
       "      <th>8</th>\n",
       "      <th>9</th>\n",
       "      <th>...</th>\n",
       "      <th>54</th>\n",
       "      <th>55</th>\n",
       "      <th>56</th>\n",
       "      <th>57</th>\n",
       "      <th>58</th>\n",
       "      <th>59</th>\n",
       "      <th>60</th>\n",
       "      <th>61</th>\n",
       "      <th>62</th>\n",
       "      <th>63</th>\n",
       "    </tr>\n",
       "  </thead>\n",
       "  <tbody>\n",
       "    <tr>\n",
       "      <th>0</th>\n",
       "      <td>0.0</td>\n",
       "      <td>0.0</td>\n",
       "      <td>5.0</td>\n",
       "      <td>13.0</td>\n",
       "      <td>9.0</td>\n",
       "      <td>1.0</td>\n",
       "      <td>0.0</td>\n",
       "      <td>0.0</td>\n",
       "      <td>0.0</td>\n",
       "      <td>0.0</td>\n",
       "      <td>...</td>\n",
       "      <td>0.0</td>\n",
       "      <td>0.0</td>\n",
       "      <td>0.0</td>\n",
       "      <td>0.0</td>\n",
       "      <td>6.0</td>\n",
       "      <td>13.0</td>\n",
       "      <td>10.0</td>\n",
       "      <td>0.0</td>\n",
       "      <td>0.0</td>\n",
       "      <td>0.0</td>\n",
       "    </tr>\n",
       "    <tr>\n",
       "      <th>1</th>\n",
       "      <td>0.0</td>\n",
       "      <td>0.0</td>\n",
       "      <td>0.0</td>\n",
       "      <td>12.0</td>\n",
       "      <td>13.0</td>\n",
       "      <td>5.0</td>\n",
       "      <td>0.0</td>\n",
       "      <td>0.0</td>\n",
       "      <td>0.0</td>\n",
       "      <td>0.0</td>\n",
       "      <td>...</td>\n",
       "      <td>0.0</td>\n",
       "      <td>0.0</td>\n",
       "      <td>0.0</td>\n",
       "      <td>0.0</td>\n",
       "      <td>0.0</td>\n",
       "      <td>11.0</td>\n",
       "      <td>16.0</td>\n",
       "      <td>10.0</td>\n",
       "      <td>0.0</td>\n",
       "      <td>0.0</td>\n",
       "    </tr>\n",
       "    <tr>\n",
       "      <th>2</th>\n",
       "      <td>0.0</td>\n",
       "      <td>0.0</td>\n",
       "      <td>0.0</td>\n",
       "      <td>4.0</td>\n",
       "      <td>15.0</td>\n",
       "      <td>12.0</td>\n",
       "      <td>0.0</td>\n",
       "      <td>0.0</td>\n",
       "      <td>0.0</td>\n",
       "      <td>0.0</td>\n",
       "      <td>...</td>\n",
       "      <td>5.0</td>\n",
       "      <td>0.0</td>\n",
       "      <td>0.0</td>\n",
       "      <td>0.0</td>\n",
       "      <td>0.0</td>\n",
       "      <td>3.0</td>\n",
       "      <td>11.0</td>\n",
       "      <td>16.0</td>\n",
       "      <td>9.0</td>\n",
       "      <td>0.0</td>\n",
       "    </tr>\n",
       "    <tr>\n",
       "      <th>3</th>\n",
       "      <td>0.0</td>\n",
       "      <td>0.0</td>\n",
       "      <td>7.0</td>\n",
       "      <td>15.0</td>\n",
       "      <td>13.0</td>\n",
       "      <td>1.0</td>\n",
       "      <td>0.0</td>\n",
       "      <td>0.0</td>\n",
       "      <td>0.0</td>\n",
       "      <td>8.0</td>\n",
       "      <td>...</td>\n",
       "      <td>9.0</td>\n",
       "      <td>0.0</td>\n",
       "      <td>0.0</td>\n",
       "      <td>0.0</td>\n",
       "      <td>7.0</td>\n",
       "      <td>13.0</td>\n",
       "      <td>13.0</td>\n",
       "      <td>9.0</td>\n",
       "      <td>0.0</td>\n",
       "      <td>0.0</td>\n",
       "    </tr>\n",
       "    <tr>\n",
       "      <th>4</th>\n",
       "      <td>0.0</td>\n",
       "      <td>0.0</td>\n",
       "      <td>0.0</td>\n",
       "      <td>1.0</td>\n",
       "      <td>11.0</td>\n",
       "      <td>0.0</td>\n",
       "      <td>0.0</td>\n",
       "      <td>0.0</td>\n",
       "      <td>0.0</td>\n",
       "      <td>0.0</td>\n",
       "      <td>...</td>\n",
       "      <td>0.0</td>\n",
       "      <td>0.0</td>\n",
       "      <td>0.0</td>\n",
       "      <td>0.0</td>\n",
       "      <td>0.0</td>\n",
       "      <td>2.0</td>\n",
       "      <td>16.0</td>\n",
       "      <td>4.0</td>\n",
       "      <td>0.0</td>\n",
       "      <td>0.0</td>\n",
       "    </tr>\n",
       "    <tr>\n",
       "      <th>...</th>\n",
       "      <td>...</td>\n",
       "      <td>...</td>\n",
       "      <td>...</td>\n",
       "      <td>...</td>\n",
       "      <td>...</td>\n",
       "      <td>...</td>\n",
       "      <td>...</td>\n",
       "      <td>...</td>\n",
       "      <td>...</td>\n",
       "      <td>...</td>\n",
       "      <td>...</td>\n",
       "      <td>...</td>\n",
       "      <td>...</td>\n",
       "      <td>...</td>\n",
       "      <td>...</td>\n",
       "      <td>...</td>\n",
       "      <td>...</td>\n",
       "      <td>...</td>\n",
       "      <td>...</td>\n",
       "      <td>...</td>\n",
       "      <td>...</td>\n",
       "    </tr>\n",
       "    <tr>\n",
       "      <th>1792</th>\n",
       "      <td>0.0</td>\n",
       "      <td>0.0</td>\n",
       "      <td>4.0</td>\n",
       "      <td>10.0</td>\n",
       "      <td>13.0</td>\n",
       "      <td>6.0</td>\n",
       "      <td>0.0</td>\n",
       "      <td>0.0</td>\n",
       "      <td>0.0</td>\n",
       "      <td>1.0</td>\n",
       "      <td>...</td>\n",
       "      <td>4.0</td>\n",
       "      <td>0.0</td>\n",
       "      <td>0.0</td>\n",
       "      <td>0.0</td>\n",
       "      <td>2.0</td>\n",
       "      <td>14.0</td>\n",
       "      <td>15.0</td>\n",
       "      <td>9.0</td>\n",
       "      <td>0.0</td>\n",
       "      <td>0.0</td>\n",
       "    </tr>\n",
       "    <tr>\n",
       "      <th>1793</th>\n",
       "      <td>0.0</td>\n",
       "      <td>0.0</td>\n",
       "      <td>6.0</td>\n",
       "      <td>16.0</td>\n",
       "      <td>13.0</td>\n",
       "      <td>11.0</td>\n",
       "      <td>1.0</td>\n",
       "      <td>0.0</td>\n",
       "      <td>0.0</td>\n",
       "      <td>0.0</td>\n",
       "      <td>...</td>\n",
       "      <td>1.0</td>\n",
       "      <td>0.0</td>\n",
       "      <td>0.0</td>\n",
       "      <td>0.0</td>\n",
       "      <td>6.0</td>\n",
       "      <td>16.0</td>\n",
       "      <td>14.0</td>\n",
       "      <td>6.0</td>\n",
       "      <td>0.0</td>\n",
       "      <td>0.0</td>\n",
       "    </tr>\n",
       "    <tr>\n",
       "      <th>1794</th>\n",
       "      <td>0.0</td>\n",
       "      <td>0.0</td>\n",
       "      <td>1.0</td>\n",
       "      <td>11.0</td>\n",
       "      <td>15.0</td>\n",
       "      <td>1.0</td>\n",
       "      <td>0.0</td>\n",
       "      <td>0.0</td>\n",
       "      <td>0.0</td>\n",
       "      <td>0.0</td>\n",
       "      <td>...</td>\n",
       "      <td>0.0</td>\n",
       "      <td>0.0</td>\n",
       "      <td>0.0</td>\n",
       "      <td>0.0</td>\n",
       "      <td>2.0</td>\n",
       "      <td>9.0</td>\n",
       "      <td>13.0</td>\n",
       "      <td>6.0</td>\n",
       "      <td>0.0</td>\n",
       "      <td>0.0</td>\n",
       "    </tr>\n",
       "    <tr>\n",
       "      <th>1795</th>\n",
       "      <td>0.0</td>\n",
       "      <td>0.0</td>\n",
       "      <td>2.0</td>\n",
       "      <td>10.0</td>\n",
       "      <td>7.0</td>\n",
       "      <td>0.0</td>\n",
       "      <td>0.0</td>\n",
       "      <td>0.0</td>\n",
       "      <td>0.0</td>\n",
       "      <td>0.0</td>\n",
       "      <td>...</td>\n",
       "      <td>2.0</td>\n",
       "      <td>0.0</td>\n",
       "      <td>0.0</td>\n",
       "      <td>0.0</td>\n",
       "      <td>5.0</td>\n",
       "      <td>12.0</td>\n",
       "      <td>16.0</td>\n",
       "      <td>12.0</td>\n",
       "      <td>0.0</td>\n",
       "      <td>0.0</td>\n",
       "    </tr>\n",
       "    <tr>\n",
       "      <th>1796</th>\n",
       "      <td>0.0</td>\n",
       "      <td>0.0</td>\n",
       "      <td>10.0</td>\n",
       "      <td>14.0</td>\n",
       "      <td>8.0</td>\n",
       "      <td>1.0</td>\n",
       "      <td>0.0</td>\n",
       "      <td>0.0</td>\n",
       "      <td>0.0</td>\n",
       "      <td>2.0</td>\n",
       "      <td>...</td>\n",
       "      <td>8.0</td>\n",
       "      <td>0.0</td>\n",
       "      <td>0.0</td>\n",
       "      <td>1.0</td>\n",
       "      <td>8.0</td>\n",
       "      <td>12.0</td>\n",
       "      <td>14.0</td>\n",
       "      <td>12.0</td>\n",
       "      <td>1.0</td>\n",
       "      <td>0.0</td>\n",
       "    </tr>\n",
       "  </tbody>\n",
       "</table>\n",
       "<p>1797 rows × 64 columns</p>\n",
       "</div>"
      ],
      "text/plain": [
       "       0    1     2     3     4     5    6    7    8    9   ...   54   55  \\\n",
       "0     0.0  0.0   5.0  13.0   9.0   1.0  0.0  0.0  0.0  0.0  ...  0.0  0.0   \n",
       "1     0.0  0.0   0.0  12.0  13.0   5.0  0.0  0.0  0.0  0.0  ...  0.0  0.0   \n",
       "2     0.0  0.0   0.0   4.0  15.0  12.0  0.0  0.0  0.0  0.0  ...  5.0  0.0   \n",
       "3     0.0  0.0   7.0  15.0  13.0   1.0  0.0  0.0  0.0  8.0  ...  9.0  0.0   \n",
       "4     0.0  0.0   0.0   1.0  11.0   0.0  0.0  0.0  0.0  0.0  ...  0.0  0.0   \n",
       "...   ...  ...   ...   ...   ...   ...  ...  ...  ...  ...  ...  ...  ...   \n",
       "1792  0.0  0.0   4.0  10.0  13.0   6.0  0.0  0.0  0.0  1.0  ...  4.0  0.0   \n",
       "1793  0.0  0.0   6.0  16.0  13.0  11.0  1.0  0.0  0.0  0.0  ...  1.0  0.0   \n",
       "1794  0.0  0.0   1.0  11.0  15.0   1.0  0.0  0.0  0.0  0.0  ...  0.0  0.0   \n",
       "1795  0.0  0.0   2.0  10.0   7.0   0.0  0.0  0.0  0.0  0.0  ...  2.0  0.0   \n",
       "1796  0.0  0.0  10.0  14.0   8.0   1.0  0.0  0.0  0.0  2.0  ...  8.0  0.0   \n",
       "\n",
       "       56   57   58    59    60    61   62   63  \n",
       "0     0.0  0.0  6.0  13.0  10.0   0.0  0.0  0.0  \n",
       "1     0.0  0.0  0.0  11.0  16.0  10.0  0.0  0.0  \n",
       "2     0.0  0.0  0.0   3.0  11.0  16.0  9.0  0.0  \n",
       "3     0.0  0.0  7.0  13.0  13.0   9.0  0.0  0.0  \n",
       "4     0.0  0.0  0.0   2.0  16.0   4.0  0.0  0.0  \n",
       "...   ...  ...  ...   ...   ...   ...  ...  ...  \n",
       "1792  0.0  0.0  2.0  14.0  15.0   9.0  0.0  0.0  \n",
       "1793  0.0  0.0  6.0  16.0  14.0   6.0  0.0  0.0  \n",
       "1794  0.0  0.0  2.0   9.0  13.0   6.0  0.0  0.0  \n",
       "1795  0.0  0.0  5.0  12.0  16.0  12.0  0.0  0.0  \n",
       "1796  0.0  1.0  8.0  12.0  14.0  12.0  1.0  0.0  \n",
       "\n",
       "[1797 rows x 64 columns]"
      ]
     },
     "execution_count": 4,
     "metadata": {},
     "output_type": "execute_result"
    }
   ],
   "source": [
    "data = pd.DataFrame(digits_data['data'])\n",
    "data"
   ]
  },
  {
   "cell_type": "code",
   "execution_count": 5,
   "metadata": {
    "colab": {
     "base_uri": "https://localhost:8080/",
     "height": 282
    },
    "executionInfo": {
     "elapsed": 620,
     "status": "ok",
     "timestamp": 1622600978248,
     "user": {
      "displayName": "James",
      "photoUrl": "",
      "userId": "16967292647882661147"
     },
     "user_tz": 240
    },
    "id": "hGZd2sb_9xRd",
    "outputId": "ea98cc5f-3e71-403d-dfdb-1869ed6f06a7"
   },
   "outputs": [
    {
     "data": {
      "text/plain": [
       "<matplotlib.image.AxesImage at 0x1a0277663d0>"
      ]
     },
     "execution_count": 5,
     "metadata": {},
     "output_type": "execute_result"
    },
    {
     "data": {
      "image/png": "[encoded data removed]",
      "text/plain": [
       "<Figure size 432x288 with 1 Axes>"
      ]
     },
     "metadata": {
      "needs_background": "light"
     },
     "output_type": "display_data"
    }
   ],
   "source": [
    "first_image = data.iloc[0]\n",
    "np_image = first_image.values\n",
    "np_image = np_image.reshape(8,8)\n",
    "plt.imshow(np_image, cmap='gray_r')"
   ]
  },
  {
   "cell_type": "code",
   "execution_count": 6,
   "metadata": {
    "colab": {
     "base_uri": "https://localhost:8080/",
     "height": 239
    },
    "executionInfo": {
     "elapsed": 594,
     "status": "ok",
     "timestamp": 1622600978834,
     "user": {
      "displayName": "James",
      "photoUrl": "",
      "userId": "16967292647882661147"
     },
     "user_tz": 240
    },
    "id": "lrfD9B8g9xRf",
    "outputId": "03ca799d-a5c6-4cdb-a03d-eefaa2c666fd"
   },
   "outputs": [
    {
     "data": {
      "image/png": "[encoded data removed]",
      "text/plain": [
       "<Figure size 432x288 with 8 Axes>"
      ]
     },
     "metadata": {
      "needs_background": "light"
     },
     "output_type": "display_data"
    }
   ],
   "source": [
    "fig, ax = plt.subplots(2, 4)\n",
    "rows =np.array([[0,100,200,300],[1000, 1100, 1200, 1300]])\n",
    "\n",
    "for i in [0,1]:\n",
    "    for j in range(4):\n",
    "        ax[i,j].imshow(data.iloc[rows[i,j]].values.reshape(8,8), cmap='gray_r')"
   ]
  },
  {
   "cell_type": "markdown",
   "metadata": {
    "id": "0S7NT-a69xRf"
   },
   "source": [
    "## 2. K-Nearest Neighours Model"
   ]
  },
  {
   "cell_type": "code",
   "execution_count": 7,
   "metadata": {
    "id": "CM0HhpDE9xRg"
   },
   "outputs": [],
   "source": [
    "# Split up the data into tran and test sets\n",
    "from sklearn.model_selection import train_test_split\n",
    "train, test = train_test_split(data, test_size=0.2)"
   ]
  },
  {
   "cell_type": "code",
   "execution_count": 8,
   "metadata": {
    "colab": {
     "base_uri": "https://localhost:8080/"
    },
    "executionInfo": {
     "elapsed": 1052,
     "status": "ok",
     "timestamp": 1622600979873,
     "user": {
      "displayName": "James",
      "photoUrl": "",
      "userId": "16967292647882661147"
     },
     "user_tz": 240
    },
    "id": "i9rpz_QF9xRg",
    "outputId": "33ec7195-3b97-43a7-ad5e-645fcc5daabd"
   },
   "outputs": [
    {
     "data": {
      "text/plain": [
       "0.9849690670626082"
      ]
     },
     "execution_count": 8,
     "metadata": {},
     "output_type": "execute_result"
    }
   ],
   "source": [
    "#Using KNN\n",
    "from sklearn.neighbors import KNeighborsClassifier\n",
    "from sklearn.metrics import classification_report,confusion_matrix,accuracy_score\n",
    "from sklearn.model_selection import KFold\n",
    "\n",
    "# traning KNN model\n",
    "def train_knn(kn,X_train,y_train):\n",
    "    knn = KNeighborsClassifier(n_neighbors=kn)\n",
    "    knn.fit(X_train,y_train)\n",
    "    return knn\n",
    "\n",
    "# Predictions and Evaluations\n",
    "def test (model, X_test, y_test):\n",
    "    predictions = model.predict(X_test)\n",
    "    score = accuracy_score(y_test, predictions)\n",
    "    return score\n",
    "\n",
    "# Perform n-fold cross validation \n",
    "def cross_validate(k=4, kfold=4):\n",
    "    kf = KFold(n_splits= kfold, shuffle=True, random_state=1)\n",
    "    kfold_accuracy = []\n",
    "        \n",
    "    for train_index, test_index in kf.split(data):\n",
    "        X_train, X_test = data.loc[train_index], data.loc[test_index]\n",
    "        y_train, y_test = labels.loc[train_index], labels.loc[test_index]\n",
    "        knn = train_knn(k,X_train,y_train)\n",
    "        accuracy = test(knn, X_test, y_test)\n",
    "        kfold_accuracy.append(accuracy)\n",
    "       \n",
    "    return kfold_accuracy\n",
    "\n",
    "knn_one_accuracies = cross_validate(4,4)\n",
    "np.mean(knn_one_accuracies)"
   ]
  },
  {
   "cell_type": "code",
   "execution_count": 9,
   "metadata": {
    "colab": {
     "base_uri": "https://localhost:8080/"
    },
    "executionInfo": {
     "elapsed": 2012,
     "status": "ok",
     "timestamp": 1622600981879,
     "user": {
      "displayName": "James",
      "photoUrl": "",
      "userId": "16967292647882661147"
     },
     "user_tz": 240
    },
    "id": "tl6CRFjr9xRh",
    "outputId": "d52ec171-68ab-4790-86cc-9f45ba5a603f"
   },
   "outputs": [
    {
     "data": {
      "text/plain": [
       "[0.9827456075228903,\n",
       " 0.9805184360306854,\n",
       " 0.9855283345706509,\n",
       " 0.9849690670626082,\n",
       " 0.9832999257609502,\n",
       " 0.9805159613956941,\n",
       " 0.9821863400148477,\n",
       " 0.9816295471417965,\n",
       " 0.9794023756495916]"
      ]
     },
     "execution_count": 9,
     "metadata": {},
     "output_type": "execute_result"
    }
   ],
   "source": [
    "k_accuracies = []\n",
    "k_range = list(range(1, 10)) \n",
    "\n",
    "for k in k_range:\n",
    "    accuracies = cross_validate (k)\n",
    "    k_accuracies.append(np.mean(accuracies))\n",
    "k_accuracies    "
   ]
  },
  {
   "cell_type": "code",
   "execution_count": 10,
   "metadata": {
    "colab": {
     "base_uri": "https://localhost:8080/",
     "height": 279
    },
    "executionInfo": {
     "elapsed": 12,
     "status": "ok",
     "timestamp": 1622600981880,
     "user": {
      "displayName": "James",
      "photoUrl": "",
      "userId": "16967292647882661147"
     },
     "user_tz": 240
    },
    "id": "q1Bhb0439xRh",
    "outputId": "9e9aacf4-1fc0-4e35-b7f3-9ffe0cdc0f8f"
   },
   "outputs": [
    {
     "data": {
      "image/png": "[encoded data removed]",
      "text/plain": [
       "<Figure size 720x288 with 1 Axes>"
      ]
     },
     "metadata": {
      "needs_background": "light"
     },
     "output_type": "display_data"
    }
   ],
   "source": [
    "plt.figure(figsize=(10,4))\n",
    "plt.plot(k_range, k_accuracies)\n",
    "plt.xlabel(\"K\") \n",
    "plt.ylabel(\"Accuracies\") \n",
    "plt.plot()\n",
    "plt.show()"
   ]
  },
  {
   "cell_type": "markdown",
   "metadata": {
    "id": "QJ83lSOp9xRi"
   },
   "source": [
    "## 4. Neural Network with One Hiddle layer\n",
    "\n",
    "Train and test a neural network model using a single hidden layer of 8, 16,32,54,128,256 neurons.\n"
   ]
  },
  {
   "cell_type": "code",
   "execution_count": 11,
   "metadata": {
    "colab": {
     "base_uri": "https://localhost:8080/"
    },
    "executionInfo": {
     "elapsed": 2474,
     "status": "ok",
     "timestamp": 1622600984348,
     "user": {
      "displayName": "James",
      "photoUrl": "",
      "userId": "16967292647882661147"
     },
     "user_tz": 240
    },
    "id": "6WoFVOCy9xRi",
    "outputId": "031556f1-90d5-438a-d97e-71489c536c1e"
   },
   "outputs": [],
   "source": [
    "from sklearn.neighbors import KNeighborsClassifier\n",
    "from sklearn.neural_network import MLPClassifier\n",
    "from sklearn.model_selection import KFold\n",
    "\n",
    "# traning MLPClassifier model\n",
    "def train_mlp(neuron,X_train,y_train):\n",
    "    mlp = MLPClassifier(hidden_layer_sizes=neuron)\n",
    "    mlp.fit(X_train,y_train)\n",
    "    return mlp\n",
    "\n",
    "# Predictions and Evaluations\n",
    "def test (model, X_test, y_test):\n",
    "    predictions = model.predict(X_test)\n",
    "    score = accuracy_score(y_test, predictions)\n",
    "    return score\n",
    "\n",
    "# Perform n-fold cross validation \n",
    "def cross_validate(neuron= (8,), kfold=4):\n",
    "    kf = KFold(n_splits= kfold, shuffle=True, random_state=1)\n",
    "    accuracies = []\n",
    "        \n",
    "    for train_index, test_index in kf.split(data):\n",
    "        X_train, X_test = data.loc[train_index], data.loc[test_index]\n",
    "        y_train, y_test = labels.loc[train_index], labels.loc[test_index]\n",
    "        mlp= train_mlp(neuron,X_train,y_train)\n",
    "        accuracy = test(mlp, X_test, y_test)\n",
    "        accuracies.append(accuracy)\n",
    "    return accuracies\n",
    "\n",
    "nn_one_accuracies = cross_validate((8,),4)\n",
    "\n",
    "np.mean(nn_one_accuracies);"
   ]
  },
  {
   "cell_type": "code",
   "execution_count": 12,
   "metadata": {
    "colab": {
     "base_uri": "https://localhost:8080/"
    },
    "executionInfo": {
     "elapsed": 23236,
     "status": "ok",
     "timestamp": 1622601007570,
     "user": {
      "displayName": "James",
      "photoUrl": "",
      "userId": "16967292647882661147"
     },
     "user_tz": 240
    },
    "id": "Nl9ycSt89xRi",
    "outputId": "81496a0f-0147-4e3c-82bc-748d8a16c4db"
   },
   "outputs": [
    {
     "name": "stdout",
     "output_type": "stream",
     "text": [
      "(8,) neurons\n",
      "(16,) neurons\n",
      "(32,) neurons\n",
      "(64,) neurons\n",
      "(128,) neurons\n",
      "(256,) neurons\n"
     ]
    },
    {
     "data": {
      "text/plain": [
       "[0.8987193763919822,\n",
       " 0.9499121504578075,\n",
       " 0.9526924028705765,\n",
       " 0.965493689680772,\n",
       " 0.9716171739668398,\n",
       " 0.9766245978718139]"
      ]
     },
     "execution_count": 12,
     "metadata": {},
     "output_type": "execute_result"
    }
   ],
   "source": [
    "one_neurons = [(8,), (16,),(32,), (64,), (128,), (256,)]\n",
    "nn_one_accuracies  = []\n",
    "\n",
    "for neuron in one_neurons:\n",
    "    print (str(neuron) +\" neurons\")\n",
    "    accuracies = cross_validate (neuron)\n",
    "    nn_one_accuracies.append(np.mean(accuracies))\n",
    "\n",
    "nn_one_accuracies    "
   ]
  },
  {
   "cell_type": "code",
   "execution_count": 13,
   "metadata": {
    "colab": {
     "base_uri": "https://localhost:8080/",
     "height": 295
    },
    "executionInfo": {
     "elapsed": 19,
     "status": "ok",
     "timestamp": 1622601007572,
     "user": {
      "displayName": "James",
      "photoUrl": "",
      "userId": "16967292647882661147"
     },
     "user_tz": 240
    },
    "id": "Y14oa5qV9xRj",
    "outputId": "336edbef-86ce-4225-aab9-9fefe7a10c28"
   },
   "outputs": [
    {
     "data": {
      "image/png": "[encoded data removed]",
      "text/plain": [
       "<Figure size 720x288 with 1 Axes>"
      ]
     },
     "metadata": {
      "needs_background": "light"
     },
     "output_type": "display_data"
    }
   ],
   "source": [
    "X =  [ x[0] for x in one_neurons]\n",
    "plt.figure(figsize=(10,4))\n",
    "plt.plot(X, nn_one_accuracies)\n",
    "plt.xlabel(\"neurons\") \n",
    "plt.ylabel(\"Accuracies\") \n",
    "plt.title(\"Mean Accuracy with Neurons In One Hidden Layers\")\n",
    "plt.plot()\n",
    "plt.show()    "
   ]
  },
  {
   "cell_type": "markdown",
   "metadata": {
    "id": "3sQC3kxu9xRj"
   },
   "source": [
    "It seems neural network is not any better than  k-nearest neighbors.\n",
    "\n",
    "## 4. Neural Network with 2 hidden layers"
   ]
  },
  {
   "cell_type": "code",
   "execution_count": null,
   "metadata": {
    "colab": {
     "base_uri": "https://localhost:8080/"
    },
    "executionInfo": {
     "elapsed": 18471,
     "status": "ok",
     "timestamp": 1622601026034,
     "user": {
      "displayName": "James",
      "photoUrl": "",
      "userId": "16967292647882661147"
     },
     "user_tz": 240
    },
    "id": "tHW1S5mY9xRk",
    "outputId": "02b8c23f-c2a8-4b09-8448-8a4d631b71a8"
   },
   "outputs": [
    {
     "name": "stdout",
     "output_type": "stream",
     "text": [
      "(64, 64) neurons\n"
     ]
    }
   ],
   "source": [
    "two_neurons = [(64,64), (128,128),(256,256)]\n",
    "nn_two_accuracies = []\n",
    "\n",
    "for neuron in two_neurons:\n",
    "    print (str(neuron) +\" neurons\")\n",
    "    accuracies = cross_validate (neuron)\n",
    "    nn_two_accuracies.append(np.mean(accuracies)) \n",
    "\n",
    "nn_two_accuracies"
   ]
  },
  {
   "cell_type": "code",
   "execution_count": null,
   "metadata": {
    "colab": {
     "base_uri": "https://localhost:8080/",
     "height": 295
    },
    "executionInfo": {
     "elapsed": 26,
     "status": "ok",
     "timestamp": 1622601026036,
     "user": {
      "displayName": "James",
      "photoUrl": "",
      "userId": "16967292647882661147"
     },
     "user_tz": 240
    },
    "id": "oRKrQiAJ9xRk",
    "outputId": "b70e9100-0142-4a20-f1dd-475771a62e69"
   },
   "outputs": [],
   "source": [
    "X =  [ x[0] for x in two_neurons]\n",
    "plt.figure(figsize=(10,4))\n",
    "plt.plot(X, nn_two_accuracies)\n",
    "plt.xlabel(\"neurons\") \n",
    "plt.ylabel(\"Accuracies\") \n",
    "plt.title(\"Mean Accuracy with Neurons In Two Hidden Layers\")\n",
    "plt.plot()\n",
    "plt.show()   "
   ]
  },
  {
   "cell_type": "markdown",
   "metadata": {
    "id": "3VFxygOu9xRk"
   },
   "source": [
    "\n",
    "## 5. Neural Network with 3 hidden layers"
   ]
  },
  {
   "cell_type": "code",
   "execution_count": null,
   "metadata": {
    "colab": {
     "base_uri": "https://localhost:8080/"
    },
    "executionInfo": {
     "elapsed": 14358,
     "status": "ok",
     "timestamp": 1622601040374,
     "user": {
      "displayName": "James",
      "photoUrl": "",
      "userId": "16967292647882661147"
     },
     "user_tz": 240
    },
    "id": "IXtOf-Hc9xRk",
    "outputId": "c762a802-cd24-40a8-f0a7-abd908f4635c"
   },
   "outputs": [],
   "source": [
    "three_neurons = [(10,10,10), (64,64,64),(128,128,128)]\n",
    "nn_three_accuracies = []\n",
    "\n",
    "for neuron in three_neurons:\n",
    "    print (str(neuron[0]) +\" neurons\")\n",
    "    accuracies = cross_validate (neuron)\n",
    "    nn_three_accuracies.append(np.mean(accuracies))\n",
    "\n",
    "nn_three_accuracies"
   ]
  },
  {
   "cell_type": "code",
   "execution_count": null,
   "metadata": {
    "colab": {
     "base_uri": "https://localhost:8080/",
     "height": 295
    },
    "executionInfo": {
     "elapsed": 29,
     "status": "ok",
     "timestamp": 1622601040375,
     "user": {
      "displayName": "James",
      "photoUrl": "",
      "userId": "16967292647882661147"
     },
     "user_tz": 240
    },
    "id": "xsXjVVs69xRl",
    "outputId": "2b4e25c9-4bf9-4103-f07a-6f2febfc0bef"
   },
   "outputs": [],
   "source": [
    "X =  [10,64,128 ]\n",
    "plt.figure(figsize=(10,4))\n",
    "plt.plot(X, nn_three_accuracies)\n",
    "plt.xlabel(\"neurons\") \n",
    "plt.ylabel(\"Accuracies\") \n",
    "plt.title(\"Mean Accuracy with Neurons In Three Hidden Layers\")\n",
    "plt.plot()\n",
    "plt.show()"
   ]
  },
  {
   "cell_type": "markdown",
   "metadata": {
    "id": "3fsBd3Zg9xRl"
   },
   "source": [
    "## 6. Decision Tree Models"
   ]
  },
  {
   "cell_type": "code",
   "execution_count": null,
   "metadata": {
    "colab": {
     "base_uri": "https://localhost:8080/"
    },
    "executionInfo": {
     "elapsed": 381,
     "status": "ok",
     "timestamp": 1622601040733,
     "user": {
      "displayName": "James",
      "photoUrl": "",
      "userId": "16967292647882661147"
     },
     "user_tz": 240
    },
    "id": "o2bVghQu9xRl",
    "outputId": "01ac66c8-7441-45fa-ae4a-2a8aaf9c30f1"
   },
   "outputs": [],
   "source": [
    "from sklearn.tree import DecisionTreeClassifier\n",
    "\n",
    "# traning decision Tree model\n",
    "def train_clf(X_train,y_train):\n",
    "    clf = DecisionTreeClassifier(random_state=2, min_samples_leaf=5)\n",
    "    clf.fit(X_train,y_train)\n",
    "    return clf\n",
    "\n",
    "# Predictions and Evaluations\n",
    "def test (model, X_test, y_test):\n",
    "    predictions = model.predict(X_test)\n",
    "    score = accuracy_score(y_test, predictions)\n",
    "    return score\n",
    "\n",
    "# Perform n-fold cross validation \n",
    "def cross_validate_clf(kfold=4):\n",
    "    kf = KFold(n_splits= kfold, shuffle=True, random_state=1) \n",
    "    kfold_accuracy = []\n",
    "        \n",
    "    for train_index, test_index in kf.split(data):\n",
    "        X_train, X_test = data.loc[train_index], data.loc[test_index]\n",
    "        y_train, y_test = labels.loc[train_index], labels.loc[test_index]\n",
    "        clf = train_clf(X_train,y_train)\n",
    "        accuracy = test(clf, X_test, y_test)\n",
    "        kfold_accuracy.append(accuracy)\n",
    "       \n",
    "    return kfold_accuracy\n",
    "\n",
    "clf_accuracies = cross_validate_clf()\n",
    "\n",
    "np.mean(clf_accuracies)"
   ]
  },
  {
   "cell_type": "markdown",
   "metadata": {
    "id": "99UQG3SH9xRm"
   },
   "source": [
    "## 7. Random Forest Models"
   ]
  },
  {
   "cell_type": "code",
   "execution_count": null,
   "metadata": {
    "colab": {
     "base_uri": "https://localhost:8080/"
    },
    "executionInfo": {
     "elapsed": 1681,
     "status": "ok",
     "timestamp": 1622601042412,
     "user": {
      "displayName": "James",
      "photoUrl": "",
      "userId": "16967292647882661147"
     },
     "user_tz": 240
    },
    "id": "_taqlEhJ9xRm",
    "outputId": "da633a44-171e-4471-9f43-5b2ab8bbd373"
   },
   "outputs": [],
   "source": [
    "from sklearn.ensemble import RandomForestClassifier\n",
    "\n",
    "# traning Random Forest Models\n",
    "def train_clf(X_train,y_train):\n",
    "    clf = RandomForestClassifier(n_estimators=150, random_state=1, min_samples_leaf=2)\n",
    "    clf.fit(X_train,y_train)\n",
    "    return clf\n",
    "\n",
    "# Predictions and Evaluations\n",
    "def test (model, X_test, y_test):\n",
    "    predictions = model.predict(X_test)\n",
    "    score = accuracy_score(y_test, predictions)\n",
    "    return score\n",
    "\n",
    "# Perform n-fold cross validation \n",
    "def cross_validate_clf(kfold=4):\n",
    "    kf = KFold(n_splits= kfold, shuffle=True, random_state=1)\n",
    "    kfold_accuracy = []\n",
    "        \n",
    "    for train_index, test_index in kf.split(data):\n",
    "        X_train, X_test = data.loc[train_index], data.loc[test_index]\n",
    "        y_train, y_test = labels.loc[train_index], labels.loc[test_index]\n",
    "        clf = train_clf(X_train,y_train)\n",
    "        accuracy = test(clf, X_test, y_test)\n",
    "        kfold_accuracy.append(accuracy)\n",
    "       \n",
    "    return kfold_accuracy\n",
    "\n",
    "clf_accuracies = cross_validate_clf()\n",
    "np.mean(clf_accuracies)"
   ]
  },
  {
   "cell_type": "markdown",
   "metadata": {
    "id": "XQQjMzXk9xRm"
   },
   "source": [
    "## Conclusion:\n",
    "\n",
    "Overall,  K-Nearest Neighours Model has the best score. Neural Network score is slightly lower."
   ]
  }
 ],
 "metadata": {
  "anaconda-cloud": {},
  "colab": {
   "collapsed_sections": [],
   "name": "Building-A-Handwritten-Digits-Classifier.ipynb",
   "provenance": []
  },
  "kernelspec": {
   "display_name": "Python [conda env:Anaconda3] *",
   "language": "python",
   "name": "conda-env-Anaconda3-py"
  },
  "language_info": {
   "codemirror_mode": {
    "name": "ipython",
    "version": 3
   },
   "file_extension": ".py",
   "mimetype": "text/x-python",
   "name": "python",
   "nbconvert_exporter": "python",
   "pygments_lexer": "ipython3",
   "version": "3.8.8"
  }
 },
 "nbformat": 4,
 "nbformat_minor": 4
}
