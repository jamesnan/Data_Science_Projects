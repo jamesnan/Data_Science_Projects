{
 "cells": [
  {
   "cell_type": "markdown",
   "metadata": {},
   "source": [
    "# Predicting Car Price\n",
    "\n",
    "In this project, we'll practice the machine learning workflow to predict a car's market price using its attribute.\n",
    "\n",
    "## 1. Intruduction to the data set\n",
    "The data set contains information on various cars. For each car we have information about the technical aspects of the vehicle such as the motor's displacement, the weight of the car, the miles per gallon, how fast the car accelerates, and more. You can read more about the data set [here](https://archive.ics.uci.edu/ml/datasets/automobile) and can download it directly from [here](https://archive.ics.uci.edu/ml/machine-learning-databases/autos/imports-85.data)."
   ]
  },
  {
   "cell_type": "code",
   "execution_count": 1,
   "metadata": {
    "collapsed": false,
    "jupyter": {
     "outputs_hidden": false
    }
   },
   "outputs": [
    {
     "data": {
      "text/html": [
       "<div>\n",
       "<style scoped>\n",
       "    .dataframe tbody tr th:only-of-type {\n",
       "        vertical-align: middle;\n",
       "    }\n",
       "\n",
       "    .dataframe tbody tr th {\n",
       "        vertical-align: top;\n",
       "    }\n",
       "\n",
       "    .dataframe thead th {\n",
       "        text-align: right;\n",
       "    }\n",
       "</style>\n",
       "<table border=\"1\" class=\"dataframe\">\n",
       "  <thead>\n",
       "    <tr style=\"text-align: right;\">\n",
       "      <th></th>\n",
       "      <th>symboling</th>\n",
       "      <th>normalized-losses</th>\n",
       "      <th>make</th>\n",
       "      <th>fuel-type</th>\n",
       "      <th>aspiration</th>\n",
       "      <th>num-of-doors</th>\n",
       "      <th>body-style</th>\n",
       "      <th>drive-wheels</th>\n",
       "      <th>engine-location</th>\n",
       "      <th>wheel-base</th>\n",
       "      <th>length</th>\n",
       "      <th>width</th>\n",
       "      <th>height</th>\n",
       "      <th>curb-weight</th>\n",
       "      <th>engine-type</th>\n",
       "      <th>num-of-cylinders</th>\n",
       "      <th>engine-size</th>\n",
       "      <th>fuel-system</th>\n",
       "      <th>bore</th>\n",
       "      <th>stroke</th>\n",
       "      <th>compression-rate</th>\n",
       "      <th>horsepower</th>\n",
       "      <th>peak-rpm</th>\n",
       "      <th>city-mpg</th>\n",
       "      <th>highway-mpg</th>\n",
       "      <th>price</th>\n",
       "    </tr>\n",
       "  </thead>\n",
       "  <tbody>\n",
       "    <tr>\n",
       "      <th>0</th>\n",
       "      <td>3</td>\n",
       "      <td>?</td>\n",
       "      <td>alfa-romero</td>\n",
       "      <td>gas</td>\n",
       "      <td>std</td>\n",
       "      <td>two</td>\n",
       "      <td>convertible</td>\n",
       "      <td>rwd</td>\n",
       "      <td>front</td>\n",
       "      <td>88.6</td>\n",
       "      <td>168.8</td>\n",
       "      <td>64.1</td>\n",
       "      <td>48.8</td>\n",
       "      <td>2548</td>\n",
       "      <td>dohc</td>\n",
       "      <td>four</td>\n",
       "      <td>130</td>\n",
       "      <td>mpfi</td>\n",
       "      <td>3.47</td>\n",
       "      <td>2.68</td>\n",
       "      <td>9.0</td>\n",
       "      <td>111</td>\n",
       "      <td>5000</td>\n",
       "      <td>21</td>\n",
       "      <td>27</td>\n",
       "      <td>13495</td>\n",
       "    </tr>\n",
       "    <tr>\n",
       "      <th>1</th>\n",
       "      <td>3</td>\n",
       "      <td>?</td>\n",
       "      <td>alfa-romero</td>\n",
       "      <td>gas</td>\n",
       "      <td>std</td>\n",
       "      <td>two</td>\n",
       "      <td>convertible</td>\n",
       "      <td>rwd</td>\n",
       "      <td>front</td>\n",
       "      <td>88.6</td>\n",
       "      <td>168.8</td>\n",
       "      <td>64.1</td>\n",
       "      <td>48.8</td>\n",
       "      <td>2548</td>\n",
       "      <td>dohc</td>\n",
       "      <td>four</td>\n",
       "      <td>130</td>\n",
       "      <td>mpfi</td>\n",
       "      <td>3.47</td>\n",
       "      <td>2.68</td>\n",
       "      <td>9.0</td>\n",
       "      <td>111</td>\n",
       "      <td>5000</td>\n",
       "      <td>21</td>\n",
       "      <td>27</td>\n",
       "      <td>16500</td>\n",
       "    </tr>\n",
       "    <tr>\n",
       "      <th>2</th>\n",
       "      <td>1</td>\n",
       "      <td>?</td>\n",
       "      <td>alfa-romero</td>\n",
       "      <td>gas</td>\n",
       "      <td>std</td>\n",
       "      <td>two</td>\n",
       "      <td>hatchback</td>\n",
       "      <td>rwd</td>\n",
       "      <td>front</td>\n",
       "      <td>94.5</td>\n",
       "      <td>171.2</td>\n",
       "      <td>65.5</td>\n",
       "      <td>52.4</td>\n",
       "      <td>2823</td>\n",
       "      <td>ohcv</td>\n",
       "      <td>six</td>\n",
       "      <td>152</td>\n",
       "      <td>mpfi</td>\n",
       "      <td>2.68</td>\n",
       "      <td>3.47</td>\n",
       "      <td>9.0</td>\n",
       "      <td>154</td>\n",
       "      <td>5000</td>\n",
       "      <td>19</td>\n",
       "      <td>26</td>\n",
       "      <td>16500</td>\n",
       "    </tr>\n",
       "    <tr>\n",
       "      <th>3</th>\n",
       "      <td>2</td>\n",
       "      <td>164</td>\n",
       "      <td>audi</td>\n",
       "      <td>gas</td>\n",
       "      <td>std</td>\n",
       "      <td>four</td>\n",
       "      <td>sedan</td>\n",
       "      <td>fwd</td>\n",
       "      <td>front</td>\n",
       "      <td>99.8</td>\n",
       "      <td>176.6</td>\n",
       "      <td>66.2</td>\n",
       "      <td>54.3</td>\n",
       "      <td>2337</td>\n",
       "      <td>ohc</td>\n",
       "      <td>four</td>\n",
       "      <td>109</td>\n",
       "      <td>mpfi</td>\n",
       "      <td>3.19</td>\n",
       "      <td>3.40</td>\n",
       "      <td>10.0</td>\n",
       "      <td>102</td>\n",
       "      <td>5500</td>\n",
       "      <td>24</td>\n",
       "      <td>30</td>\n",
       "      <td>13950</td>\n",
       "    </tr>\n",
       "    <tr>\n",
       "      <th>4</th>\n",
       "      <td>2</td>\n",
       "      <td>164</td>\n",
       "      <td>audi</td>\n",
       "      <td>gas</td>\n",
       "      <td>std</td>\n",
       "      <td>four</td>\n",
       "      <td>sedan</td>\n",
       "      <td>4wd</td>\n",
       "      <td>front</td>\n",
       "      <td>99.4</td>\n",
       "      <td>176.6</td>\n",
       "      <td>66.4</td>\n",
       "      <td>54.3</td>\n",
       "      <td>2824</td>\n",
       "      <td>ohc</td>\n",
       "      <td>five</td>\n",
       "      <td>136</td>\n",
       "      <td>mpfi</td>\n",
       "      <td>3.19</td>\n",
       "      <td>3.40</td>\n",
       "      <td>8.0</td>\n",
       "      <td>115</td>\n",
       "      <td>5500</td>\n",
       "      <td>18</td>\n",
       "      <td>22</td>\n",
       "      <td>17450</td>\n",
       "    </tr>\n",
       "  </tbody>\n",
       "</table>\n",
       "</div>"
      ],
      "text/plain": [
       "   symboling normalized-losses         make fuel-type aspiration num-of-doors  \\\n",
       "0          3                 ?  alfa-romero       gas        std          two   \n",
       "1          3                 ?  alfa-romero       gas        std          two   \n",
       "2          1                 ?  alfa-romero       gas        std          two   \n",
       "3          2               164         audi       gas        std         four   \n",
       "4          2               164         audi       gas        std         four   \n",
       "\n",
       "    body-style drive-wheels engine-location  wheel-base  length  width  \\\n",
       "0  convertible          rwd           front        88.6   168.8   64.1   \n",
       "1  convertible          rwd           front        88.6   168.8   64.1   \n",
       "2    hatchback          rwd           front        94.5   171.2   65.5   \n",
       "3        sedan          fwd           front        99.8   176.6   66.2   \n",
       "4        sedan          4wd           front        99.4   176.6   66.4   \n",
       "\n",
       "   height  curb-weight engine-type num-of-cylinders  engine-size fuel-system  \\\n",
       "0    48.8         2548        dohc             four          130        mpfi   \n",
       "1    48.8         2548        dohc             four          130        mpfi   \n",
       "2    52.4         2823        ohcv              six          152        mpfi   \n",
       "3    54.3         2337         ohc             four          109        mpfi   \n",
       "4    54.3         2824         ohc             five          136        mpfi   \n",
       "\n",
       "   bore stroke  compression-rate horsepower peak-rpm  city-mpg  highway-mpg  \\\n",
       "0  3.47   2.68               9.0        111     5000        21           27   \n",
       "1  3.47   2.68               9.0        111     5000        21           27   \n",
       "2  2.68   3.47               9.0        154     5000        19           26   \n",
       "3  3.19   3.40              10.0        102     5500        24           30   \n",
       "4  3.19   3.40               8.0        115     5500        18           22   \n",
       "\n",
       "   price  \n",
       "0  13495  \n",
       "1  16500  \n",
       "2  16500  \n",
       "3  13950  \n",
       "4  17450  "
      ]
     },
     "execution_count": 1,
     "metadata": {},
     "output_type": "execute_result"
    }
   ],
   "source": [
    "import pandas as pd\n",
    "import numpy as np\n",
    "pd.set_option('display.max_columns', None)  \n",
    "\n",
    "cols = ['symboling', 'normalized-losses', 'make', 'fuel-type', 'aspiration', 'num-of-doors', 'body-style', \n",
    "        'drive-wheels', 'engine-location', 'wheel-base', 'length', 'width', 'height', 'curb-weight', 'engine-type', \n",
    "        'num-of-cylinders', 'engine-size', 'fuel-system', 'bore', 'stroke', 'compression-rate', 'horsepower', 'peak-rpm', 'city-mpg', 'highway-mpg', 'price']\n",
    "\n",
    "cars = pd.read_csv('imports-85.data',names = cols)\n",
    "cars.head(5)"
   ]
  },
  {
   "cell_type": "code",
   "execution_count": 2,
   "metadata": {
    "collapsed": false,
    "jupyter": {
     "outputs_hidden": false
    }
   },
   "outputs": [
    {
     "name": "stdout",
     "output_type": "stream",
     "text": [
      "<class 'pandas.core.frame.DataFrame'>\n",
      "RangeIndex: 205 entries, 0 to 204\n",
      "Data columns (total 26 columns):\n",
      " #   Column             Non-Null Count  Dtype  \n",
      "---  ------             --------------  -----  \n",
      " 0   symboling          205 non-null    int64  \n",
      " 1   normalized-losses  205 non-null    object \n",
      " 2   make               205 non-null    object \n",
      " 3   fuel-type          205 non-null    object \n",
      " 4   aspiration         205 non-null    object \n",
      " 5   num-of-doors       205 non-null    object \n",
      " 6   body-style         205 non-null    object \n",
      " 7   drive-wheels       205 non-null    object \n",
      " 8   engine-location    205 non-null    object \n",
      " 9   wheel-base         205 non-null    float64\n",
      " 10  length             205 non-null    float64\n",
      " 11  width              205 non-null    float64\n",
      " 12  height             205 non-null    float64\n",
      " 13  curb-weight        205 non-null    int64  \n",
      " 14  engine-type        205 non-null    object \n",
      " 15  num-of-cylinders   205 non-null    object \n",
      " 16  engine-size        205 non-null    int64  \n",
      " 17  fuel-system        205 non-null    object \n",
      " 18  bore               205 non-null    object \n",
      " 19  stroke             205 non-null    object \n",
      " 20  compression-rate   205 non-null    float64\n",
      " 21  horsepower         205 non-null    object \n",
      " 22  peak-rpm           205 non-null    object \n",
      " 23  city-mpg           205 non-null    int64  \n",
      " 24  highway-mpg        205 non-null    int64  \n",
      " 25  price              205 non-null    object \n",
      "dtypes: float64(5), int64(5), object(16)\n",
      "memory usage: 41.8+ KB\n"
     ]
    }
   ],
   "source": [
    "cars.info()"
   ]
  },
  {
   "cell_type": "markdown",
   "metadata": {},
   "source": [
    "## 2. Data Cleaning\n",
    "\n",
    "* Extract all the numerical columns to a new dataframe.\n",
    "* Use the DataFrame.replace() method to replace all of the ? values with the numpy.nan missing value.\n",
    "* After replacing the ? values, use either the DataFrame.astype() convert column types.\n",
    "* Return the number of rows that have a missing value for the normalized-losses column. Determine how you should handle this column. You could:\n",
    "  * Replace the missing values using the average values from that column.\n",
    "  * Drop the rows entirely (especially if other columns in those rows have missing values).\n",
    "  * Drop the column entirely.\n",
    "* Explore the missing value counts for the other numeric columns and handle any missing values.\n",
    "* Of the columns you decided to keep, normalize the numeric ones so all values range from 0 to 1."
   ]
  },
  {
   "cell_type": "code",
   "execution_count": 3,
   "metadata": {
    "collapsed": false,
    "jupyter": {
     "outputs_hidden": false
    }
   },
   "outputs": [
    {
     "data": {
      "text/html": [
       "<div>\n",
       "<style scoped>\n",
       "    .dataframe tbody tr th:only-of-type {\n",
       "        vertical-align: middle;\n",
       "    }\n",
       "\n",
       "    .dataframe tbody tr th {\n",
       "        vertical-align: top;\n",
       "    }\n",
       "\n",
       "    .dataframe thead th {\n",
       "        text-align: right;\n",
       "    }\n",
       "</style>\n",
       "<table border=\"1\" class=\"dataframe\">\n",
       "  <thead>\n",
       "    <tr style=\"text-align: right;\">\n",
       "      <th></th>\n",
       "      <th>symboling</th>\n",
       "      <th>normalized-losses</th>\n",
       "      <th>wheel-base</th>\n",
       "      <th>length</th>\n",
       "      <th>width</th>\n",
       "      <th>height</th>\n",
       "      <th>curb-weight</th>\n",
       "      <th>engine-size</th>\n",
       "      <th>bore</th>\n",
       "      <th>stroke</th>\n",
       "      <th>compression-rate</th>\n",
       "      <th>horsepower</th>\n",
       "      <th>peak-rpm</th>\n",
       "      <th>city-mpg</th>\n",
       "      <th>highway-mpg</th>\n",
       "      <th>price</th>\n",
       "    </tr>\n",
       "  </thead>\n",
       "  <tbody>\n",
       "    <tr>\n",
       "      <th>0</th>\n",
       "      <td>3.0</td>\n",
       "      <td>NaN</td>\n",
       "      <td>88.6</td>\n",
       "      <td>168.8</td>\n",
       "      <td>64.1</td>\n",
       "      <td>48.8</td>\n",
       "      <td>2548.0</td>\n",
       "      <td>130.0</td>\n",
       "      <td>3.47</td>\n",
       "      <td>2.68</td>\n",
       "      <td>9.0</td>\n",
       "      <td>111.0</td>\n",
       "      <td>5000.0</td>\n",
       "      <td>21.0</td>\n",
       "      <td>27.0</td>\n",
       "      <td>13495.0</td>\n",
       "    </tr>\n",
       "    <tr>\n",
       "      <th>1</th>\n",
       "      <td>3.0</td>\n",
       "      <td>NaN</td>\n",
       "      <td>88.6</td>\n",
       "      <td>168.8</td>\n",
       "      <td>64.1</td>\n",
       "      <td>48.8</td>\n",
       "      <td>2548.0</td>\n",
       "      <td>130.0</td>\n",
       "      <td>3.47</td>\n",
       "      <td>2.68</td>\n",
       "      <td>9.0</td>\n",
       "      <td>111.0</td>\n",
       "      <td>5000.0</td>\n",
       "      <td>21.0</td>\n",
       "      <td>27.0</td>\n",
       "      <td>16500.0</td>\n",
       "    </tr>\n",
       "    <tr>\n",
       "      <th>2</th>\n",
       "      <td>1.0</td>\n",
       "      <td>NaN</td>\n",
       "      <td>94.5</td>\n",
       "      <td>171.2</td>\n",
       "      <td>65.5</td>\n",
       "      <td>52.4</td>\n",
       "      <td>2823.0</td>\n",
       "      <td>152.0</td>\n",
       "      <td>2.68</td>\n",
       "      <td>3.47</td>\n",
       "      <td>9.0</td>\n",
       "      <td>154.0</td>\n",
       "      <td>5000.0</td>\n",
       "      <td>19.0</td>\n",
       "      <td>26.0</td>\n",
       "      <td>16500.0</td>\n",
       "    </tr>\n",
       "    <tr>\n",
       "      <th>3</th>\n",
       "      <td>2.0</td>\n",
       "      <td>164.0</td>\n",
       "      <td>99.8</td>\n",
       "      <td>176.6</td>\n",
       "      <td>66.2</td>\n",
       "      <td>54.3</td>\n",
       "      <td>2337.0</td>\n",
       "      <td>109.0</td>\n",
       "      <td>3.19</td>\n",
       "      <td>3.40</td>\n",
       "      <td>10.0</td>\n",
       "      <td>102.0</td>\n",
       "      <td>5500.0</td>\n",
       "      <td>24.0</td>\n",
       "      <td>30.0</td>\n",
       "      <td>13950.0</td>\n",
       "    </tr>\n",
       "    <tr>\n",
       "      <th>4</th>\n",
       "      <td>2.0</td>\n",
       "      <td>164.0</td>\n",
       "      <td>99.4</td>\n",
       "      <td>176.6</td>\n",
       "      <td>66.4</td>\n",
       "      <td>54.3</td>\n",
       "      <td>2824.0</td>\n",
       "      <td>136.0</td>\n",
       "      <td>3.19</td>\n",
       "      <td>3.40</td>\n",
       "      <td>8.0</td>\n",
       "      <td>115.0</td>\n",
       "      <td>5500.0</td>\n",
       "      <td>18.0</td>\n",
       "      <td>22.0</td>\n",
       "      <td>17450.0</td>\n",
       "    </tr>\n",
       "  </tbody>\n",
       "</table>\n",
       "</div>"
      ],
      "text/plain": [
       "   symboling  normalized-losses  wheel-base  length  width  height  \\\n",
       "0        3.0                NaN        88.6   168.8   64.1    48.8   \n",
       "1        3.0                NaN        88.6   168.8   64.1    48.8   \n",
       "2        1.0                NaN        94.5   171.2   65.5    52.4   \n",
       "3        2.0              164.0        99.8   176.6   66.2    54.3   \n",
       "4        2.0              164.0        99.4   176.6   66.4    54.3   \n",
       "\n",
       "   curb-weight  engine-size  bore  stroke  compression-rate  horsepower  \\\n",
       "0       2548.0        130.0  3.47    2.68               9.0       111.0   \n",
       "1       2548.0        130.0  3.47    2.68               9.0       111.0   \n",
       "2       2823.0        152.0  2.68    3.47               9.0       154.0   \n",
       "3       2337.0        109.0  3.19    3.40              10.0       102.0   \n",
       "4       2824.0        136.0  3.19    3.40               8.0       115.0   \n",
       "\n",
       "   peak-rpm  city-mpg  highway-mpg    price  \n",
       "0    5000.0      21.0         27.0  13495.0  \n",
       "1    5000.0      21.0         27.0  16500.0  \n",
       "2    5000.0      19.0         26.0  16500.0  \n",
       "3    5500.0      24.0         30.0  13950.0  \n",
       "4    5500.0      18.0         22.0  17450.0  "
      ]
     },
     "execution_count": 3,
     "metadata": {},
     "output_type": "execute_result"
    }
   ],
   "source": [
    "# converted columns to numeric types. \n",
    "num_cols = ['symboling', 'normalized-losses',  'wheel-base', 'length', 'width', 'height', 'curb-weight', \n",
    "        'engine-size', 'bore', 'stroke', 'compression-rate', 'horsepower', 'peak-rpm', 'city-mpg', 'highway-mpg', 'price']\n",
    "num_cars = cars[num_cols ]\n",
    "num_cars = num_cars.replace(\"?\", np.nan)\n",
    "num_cars = num_cars.astype(float)\n",
    "num_cars.head(5)"
   ]
  },
  {
   "cell_type": "code",
   "execution_count": 4,
   "metadata": {},
   "outputs": [
    {
     "name": "stdout",
     "output_type": "stream",
     "text": [
      "<class 'pandas.core.frame.DataFrame'>\n",
      "RangeIndex: 205 entries, 0 to 204\n",
      "Data columns (total 16 columns):\n",
      " #   Column             Non-Null Count  Dtype  \n",
      "---  ------             --------------  -----  \n",
      " 0   symboling          205 non-null    float64\n",
      " 1   normalized-losses  164 non-null    float64\n",
      " 2   wheel-base         205 non-null    float64\n",
      " 3   length             205 non-null    float64\n",
      " 4   width              205 non-null    float64\n",
      " 5   height             205 non-null    float64\n",
      " 6   curb-weight        205 non-null    float64\n",
      " 7   engine-size        205 non-null    float64\n",
      " 8   bore               201 non-null    float64\n",
      " 9   stroke             201 non-null    float64\n",
      " 10  compression-rate   205 non-null    float64\n",
      " 11  horsepower         203 non-null    float64\n",
      " 12  peak-rpm           203 non-null    float64\n",
      " 13  city-mpg           205 non-null    float64\n",
      " 14  highway-mpg        205 non-null    float64\n",
      " 15  price              201 non-null    float64\n",
      "dtypes: float64(16)\n",
      "memory usage: 25.8 KB\n"
     ]
    }
   ],
   "source": [
    "num_cars.info()"
   ]
  },
  {
   "cell_type": "code",
   "execution_count": 5,
   "metadata": {
    "collapsed": false,
    "jupyter": {
     "outputs_hidden": false
    }
   },
   "outputs": [
    {
     "data": {
      "text/plain": [
       "symboling             0\n",
       "normalized-losses    41\n",
       "wheel-base            0\n",
       "length                0\n",
       "width                 0\n",
       "height                0\n",
       "curb-weight           0\n",
       "engine-size           0\n",
       "bore                  4\n",
       "stroke                4\n",
       "compression-rate      0\n",
       "horsepower            2\n",
       "peak-rpm              2\n",
       "city-mpg              0\n",
       "highway-mpg           0\n",
       "price                 4\n",
       "dtype: int64"
      ]
     },
     "execution_count": 5,
     "metadata": {},
     "output_type": "execute_result"
    }
   ],
   "source": [
    "num_cars.isnull().sum()"
   ]
  },
  {
   "cell_type": "code",
   "execution_count": 6,
   "metadata": {
    "collapsed": false,
    "jupyter": {
     "outputs_hidden": false
    }
   },
   "outputs": [
    {
     "data": {
      "text/plain": [
       "symboling             0\n",
       "normalized-losses    37\n",
       "wheel-base            0\n",
       "length                0\n",
       "width                 0\n",
       "height                0\n",
       "curb-weight           0\n",
       "engine-size           0\n",
       "bore                  4\n",
       "stroke                4\n",
       "compression-rate      0\n",
       "horsepower            2\n",
       "peak-rpm              2\n",
       "city-mpg              0\n",
       "highway-mpg           0\n",
       "price                 0\n",
       "dtype: int64"
      ]
     },
     "execution_count": 6,
     "metadata": {},
     "output_type": "execute_result"
    }
   ],
   "source": [
    "# remove all rows iwith missing value of 'price'\n",
    "num_cars = num_cars.dropna(subset=['price'])\n",
    "num_cars.isnull().sum()"
   ]
  },
  {
   "cell_type": "code",
   "execution_count": 7,
   "metadata": {
    "collapsed": false,
    "jupyter": {
     "outputs_hidden": false
    }
   },
   "outputs": [
    {
     "data": {
      "text/plain": [
       "symboling            0\n",
       "normalized-losses    0\n",
       "wheel-base           0\n",
       "length               0\n",
       "width                0\n",
       "height               0\n",
       "curb-weight          0\n",
       "engine-size          0\n",
       "bore                 0\n",
       "stroke               0\n",
       "compression-rate     0\n",
       "horsepower           0\n",
       "peak-rpm             0\n",
       "city-mpg             0\n",
       "highway-mpg          0\n",
       "price                0\n",
       "dtype: int64"
      ]
     },
     "execution_count": 7,
     "metadata": {},
     "output_type": "execute_result"
    }
   ],
   "source": [
    "num_cars = num_cars.fillna(num_cars.mean())\n",
    "num_cars.isnull().sum()"
   ]
  },
  {
   "cell_type": "code",
   "execution_count": 8,
   "metadata": {
    "collapsed": false,
    "jupyter": {
     "outputs_hidden": false
    }
   },
   "outputs": [
    {
     "data": {
      "text/html": [
       "<div>\n",
       "<style scoped>\n",
       "    .dataframe tbody tr th:only-of-type {\n",
       "        vertical-align: middle;\n",
       "    }\n",
       "\n",
       "    .dataframe tbody tr th {\n",
       "        vertical-align: top;\n",
       "    }\n",
       "\n",
       "    .dataframe thead th {\n",
       "        text-align: right;\n",
       "    }\n",
       "</style>\n",
       "<table border=\"1\" class=\"dataframe\">\n",
       "  <thead>\n",
       "    <tr style=\"text-align: right;\">\n",
       "      <th></th>\n",
       "      <th>symboling</th>\n",
       "      <th>normalized-losses</th>\n",
       "      <th>wheel-base</th>\n",
       "      <th>length</th>\n",
       "      <th>width</th>\n",
       "      <th>height</th>\n",
       "      <th>curb-weight</th>\n",
       "      <th>engine-size</th>\n",
       "      <th>bore</th>\n",
       "      <th>stroke</th>\n",
       "      <th>compression-rate</th>\n",
       "      <th>horsepower</th>\n",
       "      <th>peak-rpm</th>\n",
       "      <th>city-mpg</th>\n",
       "      <th>highway-mpg</th>\n",
       "      <th>price</th>\n",
       "    </tr>\n",
       "  </thead>\n",
       "  <tbody>\n",
       "    <tr>\n",
       "      <th>0</th>\n",
       "      <td>1.0</td>\n",
       "      <td>0.0</td>\n",
       "      <td>-0.461341</td>\n",
       "      <td>-0.159326</td>\n",
       "      <td>-0.292762</td>\n",
       "      <td>-0.823204</td>\n",
       "      <td>-0.005076</td>\n",
       "      <td>0.015691</td>\n",
       "      <td>0.22861</td>\n",
       "      <td>-0.63181</td>\n",
       "      <td>-0.090706</td>\n",
       "      <td>0.047937</td>\n",
       "      <td>-0.079322</td>\n",
       "      <td>-0.175439</td>\n",
       "      <td>-0.158131</td>\n",
       "      <td>13495.0</td>\n",
       "    </tr>\n",
       "    <tr>\n",
       "      <th>1</th>\n",
       "      <td>1.0</td>\n",
       "      <td>0.0</td>\n",
       "      <td>-0.461341</td>\n",
       "      <td>-0.159326</td>\n",
       "      <td>-0.292762</td>\n",
       "      <td>-0.823204</td>\n",
       "      <td>-0.005076</td>\n",
       "      <td>0.015691</td>\n",
       "      <td>0.22861</td>\n",
       "      <td>-0.63181</td>\n",
       "      <td>-0.090706</td>\n",
       "      <td>0.047937</td>\n",
       "      <td>-0.079322</td>\n",
       "      <td>-0.175439</td>\n",
       "      <td>-0.158131</td>\n",
       "      <td>16500.0</td>\n",
       "    </tr>\n",
       "  </tbody>\n",
       "</table>\n",
       "</div>"
      ],
      "text/plain": [
       "   symboling  normalized-losses  wheel-base    length     width    height  \\\n",
       "0        1.0                0.0   -0.461341 -0.159326 -0.292762 -0.823204   \n",
       "1        1.0                0.0   -0.461341 -0.159326 -0.292762 -0.823204   \n",
       "\n",
       "   curb-weight  engine-size     bore   stroke  compression-rate  horsepower  \\\n",
       "0    -0.005076     0.015691  0.22861 -0.63181         -0.090706    0.047937   \n",
       "1    -0.005076     0.015691  0.22861 -0.63181         -0.090706    0.047937   \n",
       "\n",
       "   peak-rpm  city-mpg  highway-mpg    price  \n",
       "0 -0.079322 -0.175439    -0.158131  13495.0  \n",
       "1 -0.079322 -0.175439    -0.158131  16500.0  "
      ]
     },
     "execution_count": 8,
     "metadata": {},
     "output_type": "execute_result"
    }
   ],
   "source": [
    "# Normalize all columnns to range from 0 to 1 except the target column.\n",
    "price = num_cars['price']\n",
    "\n",
    "num_cars = (num_cars - num_cars.mean()) /(num_cars.max()-num_cars.mean())\n",
    "num_cars['price'] = price\n",
    "num_cars.head(2)"
   ]
  },
  {
   "cell_type": "markdown",
   "metadata": {},
   "source": [
    "## 3. Univariate Model\n",
    "\n",
    "Let's start with some univariate k-nearest neighbors models before moving to more complex models"
   ]
  },
  {
   "cell_type": "code",
   "execution_count": 9,
   "metadata": {
    "collapsed": false,
    "jupyter": {
     "outputs_hidden": false
    }
   },
   "outputs": [],
   "source": [
    "import numpy as np\n",
    "from sklearn.neighbors import KNeighborsRegressor\n",
    "from sklearn.metrics import mean_squared_error\n",
    "\n",
    "def knn_train_test(train_col, target_col,df):\n",
    "    np.random.seed(1)\n",
    "    rand_df = df.reindex(np.random.permutation(df.index))\n",
    "    \n",
    "    half_rows = int(len(rand_df)/2)\n",
    "    trian = rand_df[0:half_rows]\n",
    "    test =  rand_df[half_rows:]\n",
    "    \n",
    "    knn = KNeighborsRegressor()\n",
    "\n",
    "    knn.fit(trian[[train_col]], trian[target_col])\n",
    "    predictions = knn.predict(test[[train_col]])\n",
    "\n",
    "    mse = mean_squared_error(test[target_col], predictions)\n",
    "    rmse = (mse ** 0.5)\n",
    "        \n",
    "    return rmse  "
   ]
  },
  {
   "cell_type": "code",
   "execution_count": 10,
   "metadata": {
    "collapsed": false,
    "jupyter": {
     "outputs_hidden": false
    }
   },
   "outputs": [
    {
     "data": {
      "text/plain": [
       "engine-size          3245.224717\n",
       "horsepower           4046.232709\n",
       "curb-weight          4445.141920\n",
       "highway-mpg          4686.561001\n",
       "city-mpg             4876.700372\n",
       "width                4918.400426\n",
       "length               5427.200961\n",
       "wheel-base           5461.490336\n",
       "compression-rate     6606.571346\n",
       "bore                 6795.802855\n",
       "normalized-losses    7353.056978\n",
       "peak-rpm             7644.033947\n",
       "stroke               7922.009228\n",
       "symboling            7979.434920\n",
       "height               8073.119759\n",
       "dtype: float64"
      ]
     },
     "execution_count": 10,
     "metadata": {},
     "output_type": "execute_result"
    }
   ],
   "source": [
    "# Calculate the RMSE and return that value.\n",
    "train_cols = num_cars.columns.drop('price')\n",
    "\n",
    "rmse_result ={}\n",
    "for train_col in train_cols:\n",
    "     rmse_result[train_col] = knn_train_test (train_col,'price',num_cars)\n",
    "        \n",
    "rmse_result_series = pd.Series(rmse_result)\n",
    "rmse_result_series.sort_values()"
   ]
  },
  {
   "cell_type": "code",
   "execution_count": 11,
   "metadata": {
    "collapsed": false,
    "jupyter": {
     "outputs_hidden": false
    }
   },
   "outputs": [],
   "source": [
    "# Modify the knn_train_test() function you wrote to accept a parameter for the k value.\n",
    "def knn_train_test( train_col, target_col, df,k_lst):\n",
    "    np.random.seed(1)\n",
    "    rand_df = df.reindex(np.random.permutation(df.index))\n",
    "    \n",
    "    half_rows = int(len(rand_df)/2)\n",
    "    trian = rand_df[0:half_rows]\n",
    "    test =  rand_df[half_rows:]\n",
    "    \n",
    "    k_rmses  = {}\n",
    "    for k in k_lst:\n",
    "        knn = KNeighborsRegressor(n_neighbors=k)\n",
    "        knn.fit(trian[[train_col]],trian[target_col])\n",
    "        predictions = knn.predict(test[[train_col]])\n",
    "        mse = mean_squared_error(test[target_col], predictions)\n",
    "        k_rmses [k]=  mse ** 0.5\n",
    "    return k_rmses   "
   ]
  },
  {
   "cell_type": "code",
   "execution_count": 12,
   "metadata": {
    "collapsed": false,
    "jupyter": {
     "outputs_hidden": false
    }
   },
   "outputs": [
    {
     "data": {
      "text/plain": [
       "{'symboling': {1: 8420.026461589143,\n",
       "  3: 8736.916665985938,\n",
       "  5: 7979.434919842381,\n",
       "  7: 7884.532513187155,\n",
       "  9: 7817.760486088469},\n",
       " 'normalized-losses': {1: 7836.7752643899685,\n",
       "  3: 7501.766502195689,\n",
       "  5: 7353.056977667974,\n",
       "  7: 7693.883459989381,\n",
       "  9: 7609.457151551812},\n",
       " 'wheel-base': {1: 4493.734068810494,\n",
       "  3: 5120.161506064513,\n",
       "  5: 5461.490335934409,\n",
       "  7: 5448.173408324034,\n",
       "  9: 5738.621574471594},\n",
       " 'length': {1: 4611.990241761035,\n",
       "  3: 5134.162855268855,\n",
       "  5: 5427.2009608367125,\n",
       "  7: 5309.592453572586,\n",
       "  9: 5425.475217224954},\n",
       " 'width': {1: 4559.257297950061,\n",
       "  3: 4648.142449519281,\n",
       "  5: 4918.400425679749,\n",
       "  7: 4786.8890588132645,\n",
       "  9: 4732.902349230716},\n",
       " 'height': {1: 8751.160007407449,\n",
       "  3: 8121.165102604576,\n",
       "  5: 8073.1197593196175,\n",
       "  7: 7719.6388768234065,\n",
       "  9: 7872.385681718157},\n",
       " 'curb-weight': {1: 5264.290230758878,\n",
       "  3: 5022.318011757233,\n",
       "  5: 4445.141920375235,\n",
       "  7: 4330.087333836378,\n",
       "  9: 4632.497106001295},\n",
       " 'engine-size': {1: 3227.659787364569,\n",
       "  3: 2920.1026311137803,\n",
       "  5: 3245.224717417063,\n",
       "  7: 3573.2957063036106,\n",
       "  9: 3827.3420923177146},\n",
       " 'bore': {1: 8207.250706443408,\n",
       "  3: 6985.493315692625,\n",
       "  5: 6795.802854703777,\n",
       "  7: 6831.91668482584,\n",
       "  9: 6867.250389128068},\n",
       " 'stroke': {1: 9043.351317377035,\n",
       "  3: 7240.218874670524,\n",
       "  5: 7922.00922763741,\n",
       "  7: 7727.72046679039,\n",
       "  9: 7741.553577247272},\n",
       " 'compression-rate': {1: 8083.070177540802,\n",
       "  3: 7379.623321663306,\n",
       "  5: 6606.571345933599,\n",
       "  7: 6732.032905446027,\n",
       "  9: 7024.485525463435},\n",
       " 'horsepower': {1: 4181.836136824054,\n",
       "  3: 4001.3516449818158,\n",
       "  5: 4046.232709350492,\n",
       "  7: 4172.578990868523,\n",
       "  9: 4505.980389399091},\n",
       " 'peak-rpm': {1: 9511.480067750124,\n",
       "  3: 8529.467274695355,\n",
       "  5: 7644.033946953547,\n",
       "  7: 7426.7132574814195,\n",
       "  9: 7276.084255592924},\n",
       " 'city-mpg': {1: 5901.143574354764,\n",
       "  3: 4623.107006055446,\n",
       "  5: 4876.700372015473,\n",
       "  7: 5299.998231393887,\n",
       "  9: 5453.806187522598},\n",
       " 'highway-mpg': {1: 6022.866724754784,\n",
       "  3: 4637.8697886009695,\n",
       "  5: 4686.561001226573,\n",
       "  7: 4785.1835888485675,\n",
       "  9: 5141.345621161368}}"
      ]
     },
     "execution_count": 12,
     "metadata": {},
     "output_type": "execute_result"
    }
   ],
   "source": [
    "# For each numeric column, create, train, and test a univariate model\n",
    "# using the following k values (1, 3, 5, 7, and 9). \n",
    "k_lst = [1,3,5,7,9]\n",
    "rmse_result ={}\n",
    "\n",
    "for col in train_cols:\n",
    "     rmse_result[col] = knn_train_test (col,'price', num_cars, k_lst)\n",
    "rmse_result"
   ]
  },
  {
   "cell_type": "code",
   "execution_count": 13,
   "metadata": {
    "collapsed": false,
    "jupyter": {
     "outputs_hidden": false
    }
   },
   "outputs": [
    {
     "data": {
      "image/png": "[encoded data removed]",
      "text/plain": [
       "<Figure size 432x288 with 1 Axes>"
      ]
     },
     "metadata": {
      "needs_background": "light"
     },
     "output_type": "display_data"
    }
   ],
   "source": [
    "# Visualize the results using a line plot.\n",
    "import matplotlib.pyplot as plt\n",
    "%matplotlib inline\n",
    "for feature in rmse_result:\n",
    "    rmse = rmse_result[feature]\n",
    "    x = list(rmse.keys())\n",
    "    y = list(rmse.values())\n",
    "    plt.plot(x, y)\n",
    "    plt.xlabel('k value')\n",
    "    plt.ylabel('RMSE')"
   ]
  },
  {
   "cell_type": "markdown",
   "metadata": {},
   "source": [
    "## 4. Multivariate Model"
   ]
  },
  {
   "cell_type": "code",
   "execution_count": 14,
   "metadata": {
    "collapsed": false,
    "jupyter": {
     "outputs_hidden": false
    }
   },
   "outputs": [
    {
     "name": "stdout",
     "output_type": "stream",
     "text": [
      "engine-size          3358.724987\n",
      "horsepower           4181.595974\n",
      "width                4729.118316\n",
      "curb-weight          4738.866921\n",
      "highway-mpg          5054.765345\n",
      "length               5181.684346\n",
      "city-mpg             5230.951074\n",
      "wheel-base           5252.436179\n",
      "bore                 7137.542790\n",
      "compression-rate     7165.156655\n",
      "normalized-losses    7598.987871\n",
      "stroke               7934.970693\n",
      "peak-rpm             8077.555760\n",
      "height               8107.493886\n",
      "symboling            8167.734209\n",
      "dtype: float64\n"
     ]
    },
    {
     "data": {
      "text/plain": [
       "['engine-size',\n",
       " 'horsepower',\n",
       " 'width',\n",
       " 'curb-weight',\n",
       " 'highway-mpg',\n",
       " 'length',\n",
       " 'city-mpg',\n",
       " 'wheel-base',\n",
       " 'bore',\n",
       " 'compression-rate',\n",
       " 'normalized-losses',\n",
       " 'stroke',\n",
       " 'peak-rpm',\n",
       " 'height',\n",
       " 'symboling']"
      ]
     },
     "execution_count": 14,
     "metadata": {},
     "output_type": "execute_result"
    }
   ],
   "source": [
    "# Compute average RMSE for each feature.\n",
    "avg_rmse ={}\n",
    "for feature in rmse_result:\n",
    "    rmse = rmse_result[feature]\n",
    "    avg_rmse[feature] =np.mean((list(rmse.values())))\n",
    "sorted_avg_rmse =pd.Series(avg_rmse).sort_values()\n",
    "print(sorted_avg_rmse)\n",
    "top_cols = list(sorted_avg_rmse.index)\n",
    "top_cols"
   ]
  },
  {
   "cell_type": "code",
   "execution_count": 15,
   "metadata": {
    "collapsed": false,
    "jupyter": {
     "outputs_hidden": false
    }
   },
   "outputs": [
    {
     "data": {
      "text/plain": [
       "{'best 2 features:': {5: 2897.1026517287},\n",
       " 'best 3 features:': {5: 3620.823650130801},\n",
       " 'best 4 features:': {5: 3456.4521351200915},\n",
       " 'best 5 features:': {5: 3463.12135273403}}"
      ]
     },
     "execution_count": 15,
     "metadata": {},
     "output_type": "execute_result"
    }
   ],
   "source": [
    "def knn_train_test( train_cols, target_col, df, k_values):\n",
    "    np.random.seed(1)\n",
    "    rand_df = df.reindex(np.random.permutation(df.index))\n",
    "    \n",
    "    half_rows = int(len(rand_df)/2)\n",
    "    trian = rand_df[0:half_rows]\n",
    "    test =  rand_df[half_rows:]\n",
    "    \n",
    "    k_rmses  = {}\n",
    "\n",
    "    for k in k_values:\n",
    "        knn = KNeighborsRegressor(n_neighbors=k)\n",
    "        knn.fit(trian[train_cols],trian[target_col])\n",
    "        predictions = knn.predict(test[train_cols])\n",
    "        mse = mean_squared_error(test[target_col], predictions)\n",
    "        k_rmses [k]=  mse ** 0.5\n",
    "    return k_rmses   \n",
    "\n",
    "rmse_result = {}\n",
    "for num in range(2,6):\n",
    "    train_cols = top_cols[0:num]\n",
    "    key = \"best \" + str(num) + \" features:\"\n",
    "    rmse_result[key] = knn_train_test (train_cols,'price', num_cars,[5])\n",
    "\n",
    "rmse_result    "
   ]
  },
  {
   "cell_type": "markdown",
   "metadata": {},
   "source": [
    "## 5. Hyperparameter Tuning"
   ]
  },
  {
   "cell_type": "code",
   "execution_count": 16,
   "metadata": {
    "collapsed": false,
    "jupyter": {
     "outputs_hidden": false
    }
   },
   "outputs": [
    {
     "data": {
      "text/plain": [
       "{'best 2 features:': {1: 2924.619293156118,\n",
       "  2: 2745.2834021136673,\n",
       "  3: 2771.6036701322264,\n",
       "  4: 2716.260843681225,\n",
       "  5: 2897.1026517287,\n",
       "  6: 3081.634445977631,\n",
       "  7: 3156.8463476704987,\n",
       "  8: 3437.7145374996794,\n",
       "  9: 3812.0580036670913,\n",
       "  10: 4052.4561055275753,\n",
       "  11: 4159.307426756584,\n",
       "  12: 4288.237807211619,\n",
       "  13: 4367.663212528511,\n",
       "  14: 4409.944772167148,\n",
       "  15: 4529.600773379992,\n",
       "  16: 4672.893319480718,\n",
       "  17: 4750.802850315589,\n",
       "  18: 4813.303275393554,\n",
       "  19: 4851.321976256463,\n",
       "  20: 4836.507927070302,\n",
       "  21: 4817.464828239102,\n",
       "  22: 4827.160457066548,\n",
       "  23: 4849.073755859744,\n",
       "  24: 4883.335437655834},\n",
       " 'best 3 features:': {1: 3333.205450352172,\n",
       "  2: 3466.55777885764,\n",
       "  3: 3323.4411366833165,\n",
       "  4: 3357.3485622129065,\n",
       "  5: 3620.823650130801,\n",
       "  6: 3791.4905210961765,\n",
       "  7: 3924.296451585591,\n",
       "  8: 3941.4202922124227,\n",
       "  9: 4037.6941350084558,\n",
       "  10: 4037.0303957289702,\n",
       "  11: 4124.281242376916,\n",
       "  12: 4163.844196836717,\n",
       "  13: 4246.626228339095,\n",
       "  14: 4381.339245096452,\n",
       "  15: 4416.321362263561,\n",
       "  16: 4505.938157887234,\n",
       "  17: 4547.377780389927,\n",
       "  18: 4599.365276875533,\n",
       "  19: 4644.984062283334,\n",
       "  20: 4710.171692504562,\n",
       "  21: 4742.30515281226,\n",
       "  22: 4785.340543061025,\n",
       "  23: 4847.179091717778,\n",
       "  24: 4911.414255933025},\n",
       " 'best 4 features:': {1: 2838.2738758018763,\n",
       "  2: 3002.1923989802935,\n",
       "  3: 3157.1013776739715,\n",
       "  4: 3387.4073509488603,\n",
       "  5: 3456.4521351200915,\n",
       "  6: 3632.988691529782,\n",
       "  7: 3804.270061171117,\n",
       "  8: 3925.043988173449,\n",
       "  9: 3992.7754799906384,\n",
       "  10: 3987.4468038414443,\n",
       "  11: 4093.924752271401,\n",
       "  12: 4150.756345596733,\n",
       "  13: 4296.396629612478,\n",
       "  14: 4385.054202931706,\n",
       "  15: 4445.170424993706,\n",
       "  16: 4540.627090182514,\n",
       "  17: 4565.936939238001,\n",
       "  18: 4612.905191480323,\n",
       "  19: 4669.217408969812,\n",
       "  20: 4722.005344940697,\n",
       "  21: 4761.435747197319,\n",
       "  22: 4780.88165485802,\n",
       "  23: 4818.911690938361,\n",
       "  24: 4876.906047106721},\n",
       " 'best 5 features:': {1: 2718.594447922902,\n",
       "  2: 2930.779982266742,\n",
       "  3: 3037.303331403153,\n",
       "  4: 3228.303485548095,\n",
       "  5: 3463.12135273403,\n",
       "  6: 3652.4727736817217,\n",
       "  7: 3805.095201572346,\n",
       "  8: 3878.3830639319344,\n",
       "  9: 4002.277075112053,\n",
       "  10: 4061.455770501825,\n",
       "  11: 4196.411182793271,\n",
       "  12: 4309.212739268563,\n",
       "  13: 4357.334160201003,\n",
       "  14: 4423.789646443077,\n",
       "  15: 4544.409265200149,\n",
       "  16: 4554.58522069833,\n",
       "  17: 4587.588170084736,\n",
       "  18: 4652.035052345854,\n",
       "  19: 4673.22802034515,\n",
       "  20: 4741.2553198645155,\n",
       "  21: 4773.119214994207,\n",
       "  22: 4806.304354468889,\n",
       "  23: 4817.1857855914795,\n",
       "  24: 4846.070972296718}}"
      ]
     },
     "execution_count": 16,
     "metadata": {},
     "output_type": "execute_result"
    }
   ],
   "source": [
    "hyperparameter =[x for x in range(1,25)]\n",
    "rmse_result = {}\n",
    "\n",
    "for num in range(2,6):\n",
    "    train_cols = top_cols[0:num]\n",
    "    key = \"best \" + str(num) + \" features:\"\n",
    "    rmse_result[key] = knn_train_test (train_cols,'price', num_cars, hyperparameter)\n",
    "\n",
    "rmse_result "
   ]
  },
  {
   "cell_type": "code",
   "execution_count": 17,
   "metadata": {
    "collapsed": false,
    "jupyter": {
     "outputs_hidden": false
    }
   },
   "outputs": [
    {
     "data": {
      "text/plain": [
       "<matplotlib.legend.Legend at 0x1ebae6bf760>"
      ]
     },
     "execution_count": 17,
     "metadata": {},
     "output_type": "execute_result"
    },
    {
     "data": {
      "image/png": "[encoded data removed]",
      "text/plain": [
       "<Figure size 432x288 with 1 Axes>"
      ]
     },
     "metadata": {
      "needs_background": "light"
     },
     "output_type": "display_data"
    }
   ],
   "source": [
    "for key,feature in rmse_result.items():\n",
    "    x = list(feature.keys())\n",
    "    y = list(feature.values())\n",
    "    plt.plot(x, y, label =\"{}\".format(key))\n",
    "\n",
    "plt.xlabel('k value')\n",
    "plt.ylabel('RMSE')\n",
    "plt.legend(loc='upper left')    "
   ]
  }
 ],
 "metadata": {
  "kernelspec": {
   "display_name": "Python 3",
   "language": "python",
   "name": "python3"
  },
  "language_info": {
   "codemirror_mode": {
    "name": "ipython",
    "version": 3
   },
   "file_extension": ".py",
   "mimetype": "text/x-python",
   "name": "python",
   "nbconvert_exporter": "python",
   "pygments_lexer": "ipython3",
   "version": "3.8.8"
  }
 },
 "nbformat": 4,
 "nbformat_minor": 4
}
